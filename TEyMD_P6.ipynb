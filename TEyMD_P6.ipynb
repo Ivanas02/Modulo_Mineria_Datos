{
  "nbformat": 4,
  "nbformat_minor": 0,
  "metadata": {
    "colab": {
      "provenance": [],
      "authorship_tag": "ABX9TyOXMPf3W/cP/NCxT9RqEmmY",
      "include_colab_link": true
    },
    "kernelspec": {
      "name": "python3",
      "display_name": "Python 3"
    },
    "language_info": {
      "name": "python"
    }
  },
  "cells": [
    {
      "cell_type": "markdown",
      "metadata": {
        "id": "view-in-github",
        "colab_type": "text"
      },
      "source": [
        "<a href=\"https://colab.research.google.com/github/Ivanas02/Modulo_Mineria_Datos/blob/main/TEyMD_P6.ipynb\" target=\"_parent\"><img src=\"https://colab.research.google.com/assets/colab-badge.svg\" alt=\"Open In Colab\"/></a>"
      ]
    },
    {
      "cell_type": "code",
      "execution_count": null,
      "metadata": {
        "colab": {
          "base_uri": "https://localhost:8080/"
        },
        "id": "RCPG3UdpBG9U",
        "outputId": "ff5632ce-e8ba-4575-e888-c282976b0ea8"
      },
      "outputs": [
        {
          "output_type": "stream",
          "name": "stdout",
          "text": [
            "Matriz de Confusión:\n",
            "[[5 4]\n",
            " [4 7]]\n",
            "Precision: 63.64%\n",
            "Sensitivity (TPR): 63.64%\n",
            "Specificity: 55.56%\n",
            "Accuracy: 60.00%\n",
            "FPR: 44.44%\n"
          ]
        }
      ],
      "source": [
        "import pandas as pd\n",
        "from sklearn.metrics import confusion_matrix, roc_curve\n",
        "import matplotlib.pyplot as plt\n",
        "\n",
        "# DF con los datos\n",
        "df = pd.DataFrame({'ID': ['1', '2', '3', '4', '5', '6', '7', '8', '9', '10', '11',\n",
        "                          '12', '13', '14', '15', '16', '17', '18', '19', '20'],\n",
        "                   'Clase': ['1', '1', '1', '1', '1', '1', '1', '1', '1', '1', '1',\n",
        "                             '0', '0', '0', '0', '0', '0', '0', '0', '0'],\n",
        "                   'Prediccion': ['1', '1', '1', '0', '1', '0', '1', '0', '0', '1',\n",
        "                                  '1', '0', '0', '0', '1', '1', '1', '0', '1', '0']})\n",
        "\n",
        "# Matriz de confusión\n",
        "y_true = df['Clase'].astype(int)\n",
        "y_pred = df['Prediccion'].astype(int)\n",
        "conf_matrix = confusion_matrix(y_true, y_pred)\n",
        "\n",
        "# Extraer los valores de la matriz de confusión\n",
        "TN, FP, FN, TP = conf_matrix.ravel()\n",
        "\n",
        "# Calcular las métricas\n",
        "precision = TP / (TP + FP) if (TP + FP) != 0 else 0\n",
        "sensitivity = TP / (TP + FN) if (TP + FN) != 0 else 0  # TPR\n",
        "specificity = TN / (TN + FP) if (TN + FP) != 0 else 0\n",
        "accuracy = (TP + TN) / (TP + TN + FP + FN)\n",
        "FPR = FP / (FP + TN) if (FP + TN) != 0 else 0\n",
        "\n",
        "# Mostrar los resultados\n",
        "print(f\"Matriz de Confusión:\\n{conf_matrix}\")\n",
        "print(f\"Precision: {precision * 100:.2f}%\")\n",
        "print(f\"Sensitivity (TPR): {sensitivity * 100:.2f}%\")\n",
        "print(f\"Specificity: {specificity * 100:.2f}%\")\n",
        "print(f\"Accuracy: {accuracy * 100:.2f}%\")\n",
        "print(f\"FPR: {FPR * 100:.2f}%\")"
      ]
    },
    {
      "cell_type": "code",
      "source": [],
      "metadata": {
        "id": "lW0HSmWtDoMO"
      },
      "execution_count": null,
      "outputs": []
    }
  ]
}