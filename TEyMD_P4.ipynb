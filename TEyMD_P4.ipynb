{
  "nbformat": 4,
  "nbformat_minor": 0,
  "metadata": {
    "colab": {
      "provenance": [],
      "authorship_tag": "ABX9TyP8eCvZuCjUb52jhtJUZdsl",
      "include_colab_link": true
    },
    "kernelspec": {
      "name": "python3",
      "display_name": "Python 3"
    },
    "language_info": {
      "name": "python"
    }
  },
  "cells": [
    {
      "cell_type": "markdown",
      "metadata": {
        "id": "view-in-github",
        "colab_type": "text"
      },
      "source": [
        "<a href=\"https://colab.research.google.com/github/Ivanas02/Modulo_Mineria_Datos/blob/main/TEyMD_P4.ipynb\" target=\"_parent\"><img src=\"https://colab.research.google.com/assets/colab-badge.svg\" alt=\"Open In Colab\"/></a>"
      ]
    },
    {
      "cell_type": "markdown",
      "source": [
        "# **TEyMD P4**"
      ],
      "metadata": {
        "id": "mODzzeyE-6_W"
      }
    },
    {
      "cell_type": "markdown",
      "source": [
        "- **Jesús Iván Hernández Rivera**"
      ],
      "metadata": {
        "id": "QczPpfPsjU22"
      }
    },
    {
      "cell_type": "markdown",
      "source": [
        "En primera instancia se realizó la carga de la información para poder tener una visualización previa de los datos proporcionados y así poder continuar con el análisis de información."
      ],
      "metadata": {
        "id": "n_7SAXHl-G4t"
      }
    },
    {
      "cell_type": "code",
      "source": [
        "# Importamos las librerias necesarias\n",
        "import pandas as pd\n",
        "from sklearn.decomposition import PCA\n",
        "from sklearn.preprocessing import StandardScaler\n",
        "import matplotlib.pyplot as plt\n",
        "import numpy as np\n",
        "from sklearn.cluster import KMeans"
      ],
      "metadata": {
        "id": "uP9hnnf0-DWk"
      },
      "execution_count": null,
      "outputs": []
    },
    {
      "cell_type": "code",
      "execution_count": null,
      "metadata": {
        "colab": {
          "base_uri": "https://localhost:8080/",
          "height": 236
        },
        "id": "wLOlNNh346cp",
        "outputId": "396478c0-b22c-4494-be16-148c5db65fc9"
      },
      "outputs": [
        {
          "output_type": "execute_result",
          "data": {
            "text/plain": [
              "   race   age  engnat  gender  hand  source country  E1  E2  E3  ...  O1  O2  \\\n",
              "0     3  53.0     1.0       1     1       1      US   4   2   5  ...   4   1   \n",
              "1    13  46.0     1.0       2     1       1      US   2   2   3  ...   3   3   \n",
              "2     1  14.0     2.0       2     1       1      PK   5   1   1  ...   4   5   \n",
              "3     3  19.0     2.0       2     1       1      RO   2   5   2  ...   4   3   \n",
              "4    11  25.0     2.0       2     1       2      US   3   1   3  ...   3   1   \n",
              "\n",
              "   O3  O4  O5  O6  O7  O8  O9  O10  \n",
              "0   3   1   5   1   4   2   5    5  \n",
              "1   3   3   2   3   3   1   3    2  \n",
              "2   5   1   5   1   5   5   5    5  \n",
              "3   5   2   4   2   5   2   5    5  \n",
              "4   1   1   3   1   3   1   5    3  \n",
              "\n",
              "[5 rows x 57 columns]"
            ],
            "text/html": [
              "\n",
              "  <div id=\"df-51a01e16-5e3e-459f-a33e-c728f830b2ee\" class=\"colab-df-container\">\n",
              "    <div>\n",
              "<style scoped>\n",
              "    .dataframe tbody tr th:only-of-type {\n",
              "        vertical-align: middle;\n",
              "    }\n",
              "\n",
              "    .dataframe tbody tr th {\n",
              "        vertical-align: top;\n",
              "    }\n",
              "\n",
              "    .dataframe thead th {\n",
              "        text-align: right;\n",
              "    }\n",
              "</style>\n",
              "<table border=\"1\" class=\"dataframe\">\n",
              "  <thead>\n",
              "    <tr style=\"text-align: right;\">\n",
              "      <th></th>\n",
              "      <th>race</th>\n",
              "      <th>age</th>\n",
              "      <th>engnat</th>\n",
              "      <th>gender</th>\n",
              "      <th>hand</th>\n",
              "      <th>source</th>\n",
              "      <th>country</th>\n",
              "      <th>E1</th>\n",
              "      <th>E2</th>\n",
              "      <th>E3</th>\n",
              "      <th>...</th>\n",
              "      <th>O1</th>\n",
              "      <th>O2</th>\n",
              "      <th>O3</th>\n",
              "      <th>O4</th>\n",
              "      <th>O5</th>\n",
              "      <th>O6</th>\n",
              "      <th>O7</th>\n",
              "      <th>O8</th>\n",
              "      <th>O9</th>\n",
              "      <th>O10</th>\n",
              "    </tr>\n",
              "  </thead>\n",
              "  <tbody>\n",
              "    <tr>\n",
              "      <th>0</th>\n",
              "      <td>3</td>\n",
              "      <td>53.0</td>\n",
              "      <td>1.0</td>\n",
              "      <td>1</td>\n",
              "      <td>1</td>\n",
              "      <td>1</td>\n",
              "      <td>US</td>\n",
              "      <td>4</td>\n",
              "      <td>2</td>\n",
              "      <td>5</td>\n",
              "      <td>...</td>\n",
              "      <td>4</td>\n",
              "      <td>1</td>\n",
              "      <td>3</td>\n",
              "      <td>1</td>\n",
              "      <td>5</td>\n",
              "      <td>1</td>\n",
              "      <td>4</td>\n",
              "      <td>2</td>\n",
              "      <td>5</td>\n",
              "      <td>5</td>\n",
              "    </tr>\n",
              "    <tr>\n",
              "      <th>1</th>\n",
              "      <td>13</td>\n",
              "      <td>46.0</td>\n",
              "      <td>1.0</td>\n",
              "      <td>2</td>\n",
              "      <td>1</td>\n",
              "      <td>1</td>\n",
              "      <td>US</td>\n",
              "      <td>2</td>\n",
              "      <td>2</td>\n",
              "      <td>3</td>\n",
              "      <td>...</td>\n",
              "      <td>3</td>\n",
              "      <td>3</td>\n",
              "      <td>3</td>\n",
              "      <td>3</td>\n",
              "      <td>2</td>\n",
              "      <td>3</td>\n",
              "      <td>3</td>\n",
              "      <td>1</td>\n",
              "      <td>3</td>\n",
              "      <td>2</td>\n",
              "    </tr>\n",
              "    <tr>\n",
              "      <th>2</th>\n",
              "      <td>1</td>\n",
              "      <td>14.0</td>\n",
              "      <td>2.0</td>\n",
              "      <td>2</td>\n",
              "      <td>1</td>\n",
              "      <td>1</td>\n",
              "      <td>PK</td>\n",
              "      <td>5</td>\n",
              "      <td>1</td>\n",
              "      <td>1</td>\n",
              "      <td>...</td>\n",
              "      <td>4</td>\n",
              "      <td>5</td>\n",
              "      <td>5</td>\n",
              "      <td>1</td>\n",
              "      <td>5</td>\n",
              "      <td>1</td>\n",
              "      <td>5</td>\n",
              "      <td>5</td>\n",
              "      <td>5</td>\n",
              "      <td>5</td>\n",
              "    </tr>\n",
              "    <tr>\n",
              "      <th>3</th>\n",
              "      <td>3</td>\n",
              "      <td>19.0</td>\n",
              "      <td>2.0</td>\n",
              "      <td>2</td>\n",
              "      <td>1</td>\n",
              "      <td>1</td>\n",
              "      <td>RO</td>\n",
              "      <td>2</td>\n",
              "      <td>5</td>\n",
              "      <td>2</td>\n",
              "      <td>...</td>\n",
              "      <td>4</td>\n",
              "      <td>3</td>\n",
              "      <td>5</td>\n",
              "      <td>2</td>\n",
              "      <td>4</td>\n",
              "      <td>2</td>\n",
              "      <td>5</td>\n",
              "      <td>2</td>\n",
              "      <td>5</td>\n",
              "      <td>5</td>\n",
              "    </tr>\n",
              "    <tr>\n",
              "      <th>4</th>\n",
              "      <td>11</td>\n",
              "      <td>25.0</td>\n",
              "      <td>2.0</td>\n",
              "      <td>2</td>\n",
              "      <td>1</td>\n",
              "      <td>2</td>\n",
              "      <td>US</td>\n",
              "      <td>3</td>\n",
              "      <td>1</td>\n",
              "      <td>3</td>\n",
              "      <td>...</td>\n",
              "      <td>3</td>\n",
              "      <td>1</td>\n",
              "      <td>1</td>\n",
              "      <td>1</td>\n",
              "      <td>3</td>\n",
              "      <td>1</td>\n",
              "      <td>3</td>\n",
              "      <td>1</td>\n",
              "      <td>5</td>\n",
              "      <td>3</td>\n",
              "    </tr>\n",
              "  </tbody>\n",
              "</table>\n",
              "<p>5 rows × 57 columns</p>\n",
              "</div>\n",
              "    <div class=\"colab-df-buttons\">\n",
              "\n",
              "  <div class=\"colab-df-container\">\n",
              "    <button class=\"colab-df-convert\" onclick=\"convertToInteractive('df-51a01e16-5e3e-459f-a33e-c728f830b2ee')\"\n",
              "            title=\"Convert this dataframe to an interactive table.\"\n",
              "            style=\"display:none;\">\n",
              "\n",
              "  <svg xmlns=\"http://www.w3.org/2000/svg\" height=\"24px\" viewBox=\"0 -960 960 960\">\n",
              "    <path d=\"M120-120v-720h720v720H120Zm60-500h600v-160H180v160Zm220 220h160v-160H400v160Zm0 220h160v-160H400v160ZM180-400h160v-160H180v160Zm440 0h160v-160H620v160ZM180-180h160v-160H180v160Zm440 0h160v-160H620v160Z\"/>\n",
              "  </svg>\n",
              "    </button>\n",
              "\n",
              "  <style>\n",
              "    .colab-df-container {\n",
              "      display:flex;\n",
              "      gap: 12px;\n",
              "    }\n",
              "\n",
              "    .colab-df-convert {\n",
              "      background-color: #E8F0FE;\n",
              "      border: none;\n",
              "      border-radius: 50%;\n",
              "      cursor: pointer;\n",
              "      display: none;\n",
              "      fill: #1967D2;\n",
              "      height: 32px;\n",
              "      padding: 0 0 0 0;\n",
              "      width: 32px;\n",
              "    }\n",
              "\n",
              "    .colab-df-convert:hover {\n",
              "      background-color: #E2EBFA;\n",
              "      box-shadow: 0px 1px 2px rgba(60, 64, 67, 0.3), 0px 1px 3px 1px rgba(60, 64, 67, 0.15);\n",
              "      fill: #174EA6;\n",
              "    }\n",
              "\n",
              "    .colab-df-buttons div {\n",
              "      margin-bottom: 4px;\n",
              "    }\n",
              "\n",
              "    [theme=dark] .colab-df-convert {\n",
              "      background-color: #3B4455;\n",
              "      fill: #D2E3FC;\n",
              "    }\n",
              "\n",
              "    [theme=dark] .colab-df-convert:hover {\n",
              "      background-color: #434B5C;\n",
              "      box-shadow: 0px 1px 3px 1px rgba(0, 0, 0, 0.15);\n",
              "      filter: drop-shadow(0px 1px 2px rgba(0, 0, 0, 0.3));\n",
              "      fill: #FFFFFF;\n",
              "    }\n",
              "  </style>\n",
              "\n",
              "    <script>\n",
              "      const buttonEl =\n",
              "        document.querySelector('#df-51a01e16-5e3e-459f-a33e-c728f830b2ee button.colab-df-convert');\n",
              "      buttonEl.style.display =\n",
              "        google.colab.kernel.accessAllowed ? 'block' : 'none';\n",
              "\n",
              "      async function convertToInteractive(key) {\n",
              "        const element = document.querySelector('#df-51a01e16-5e3e-459f-a33e-c728f830b2ee');\n",
              "        const dataTable =\n",
              "          await google.colab.kernel.invokeFunction('convertToInteractive',\n",
              "                                                    [key], {});\n",
              "        if (!dataTable) return;\n",
              "\n",
              "        const docLinkHtml = 'Like what you see? Visit the ' +\n",
              "          '<a target=\"_blank\" href=https://colab.research.google.com/notebooks/data_table.ipynb>data table notebook</a>'\n",
              "          + ' to learn more about interactive tables.';\n",
              "        element.innerHTML = '';\n",
              "        dataTable['output_type'] = 'display_data';\n",
              "        await google.colab.output.renderOutput(dataTable, element);\n",
              "        const docLink = document.createElement('div');\n",
              "        docLink.innerHTML = docLinkHtml;\n",
              "        element.appendChild(docLink);\n",
              "      }\n",
              "    </script>\n",
              "  </div>\n",
              "\n",
              "\n",
              "<div id=\"df-11fc0e83-bf00-43c4-946f-af251f9c4910\">\n",
              "  <button class=\"colab-df-quickchart\" onclick=\"quickchart('df-11fc0e83-bf00-43c4-946f-af251f9c4910')\"\n",
              "            title=\"Suggest charts\"\n",
              "            style=\"display:none;\">\n",
              "\n",
              "<svg xmlns=\"http://www.w3.org/2000/svg\" height=\"24px\"viewBox=\"0 0 24 24\"\n",
              "     width=\"24px\">\n",
              "    <g>\n",
              "        <path d=\"M19 3H5c-1.1 0-2 .9-2 2v14c0 1.1.9 2 2 2h14c1.1 0 2-.9 2-2V5c0-1.1-.9-2-2-2zM9 17H7v-7h2v7zm4 0h-2V7h2v10zm4 0h-2v-4h2v4z\"/>\n",
              "    </g>\n",
              "</svg>\n",
              "  </button>\n",
              "\n",
              "<style>\n",
              "  .colab-df-quickchart {\n",
              "      --bg-color: #E8F0FE;\n",
              "      --fill-color: #1967D2;\n",
              "      --hover-bg-color: #E2EBFA;\n",
              "      --hover-fill-color: #174EA6;\n",
              "      --disabled-fill-color: #AAA;\n",
              "      --disabled-bg-color: #DDD;\n",
              "  }\n",
              "\n",
              "  [theme=dark] .colab-df-quickchart {\n",
              "      --bg-color: #3B4455;\n",
              "      --fill-color: #D2E3FC;\n",
              "      --hover-bg-color: #434B5C;\n",
              "      --hover-fill-color: #FFFFFF;\n",
              "      --disabled-bg-color: #3B4455;\n",
              "      --disabled-fill-color: #666;\n",
              "  }\n",
              "\n",
              "  .colab-df-quickchart {\n",
              "    background-color: var(--bg-color);\n",
              "    border: none;\n",
              "    border-radius: 50%;\n",
              "    cursor: pointer;\n",
              "    display: none;\n",
              "    fill: var(--fill-color);\n",
              "    height: 32px;\n",
              "    padding: 0;\n",
              "    width: 32px;\n",
              "  }\n",
              "\n",
              "  .colab-df-quickchart:hover {\n",
              "    background-color: var(--hover-bg-color);\n",
              "    box-shadow: 0 1px 2px rgba(60, 64, 67, 0.3), 0 1px 3px 1px rgba(60, 64, 67, 0.15);\n",
              "    fill: var(--button-hover-fill-color);\n",
              "  }\n",
              "\n",
              "  .colab-df-quickchart-complete:disabled,\n",
              "  .colab-df-quickchart-complete:disabled:hover {\n",
              "    background-color: var(--disabled-bg-color);\n",
              "    fill: var(--disabled-fill-color);\n",
              "    box-shadow: none;\n",
              "  }\n",
              "\n",
              "  .colab-df-spinner {\n",
              "    border: 2px solid var(--fill-color);\n",
              "    border-color: transparent;\n",
              "    border-bottom-color: var(--fill-color);\n",
              "    animation:\n",
              "      spin 1s steps(1) infinite;\n",
              "  }\n",
              "\n",
              "  @keyframes spin {\n",
              "    0% {\n",
              "      border-color: transparent;\n",
              "      border-bottom-color: var(--fill-color);\n",
              "      border-left-color: var(--fill-color);\n",
              "    }\n",
              "    20% {\n",
              "      border-color: transparent;\n",
              "      border-left-color: var(--fill-color);\n",
              "      border-top-color: var(--fill-color);\n",
              "    }\n",
              "    30% {\n",
              "      border-color: transparent;\n",
              "      border-left-color: var(--fill-color);\n",
              "      border-top-color: var(--fill-color);\n",
              "      border-right-color: var(--fill-color);\n",
              "    }\n",
              "    40% {\n",
              "      border-color: transparent;\n",
              "      border-right-color: var(--fill-color);\n",
              "      border-top-color: var(--fill-color);\n",
              "    }\n",
              "    60% {\n",
              "      border-color: transparent;\n",
              "      border-right-color: var(--fill-color);\n",
              "    }\n",
              "    80% {\n",
              "      border-color: transparent;\n",
              "      border-right-color: var(--fill-color);\n",
              "      border-bottom-color: var(--fill-color);\n",
              "    }\n",
              "    90% {\n",
              "      border-color: transparent;\n",
              "      border-bottom-color: var(--fill-color);\n",
              "    }\n",
              "  }\n",
              "</style>\n",
              "\n",
              "  <script>\n",
              "    async function quickchart(key) {\n",
              "      const quickchartButtonEl =\n",
              "        document.querySelector('#' + key + ' button');\n",
              "      quickchartButtonEl.disabled = true;  // To prevent multiple clicks.\n",
              "      quickchartButtonEl.classList.add('colab-df-spinner');\n",
              "      try {\n",
              "        const charts = await google.colab.kernel.invokeFunction(\n",
              "            'suggestCharts', [key], {});\n",
              "      } catch (error) {\n",
              "        console.error('Error during call to suggestCharts:', error);\n",
              "      }\n",
              "      quickchartButtonEl.classList.remove('colab-df-spinner');\n",
              "      quickchartButtonEl.classList.add('colab-df-quickchart-complete');\n",
              "    }\n",
              "    (() => {\n",
              "      let quickchartButtonEl =\n",
              "        document.querySelector('#df-11fc0e83-bf00-43c4-946f-af251f9c4910 button');\n",
              "      quickchartButtonEl.style.display =\n",
              "        google.colab.kernel.accessAllowed ? 'block' : 'none';\n",
              "    })();\n",
              "  </script>\n",
              "</div>\n",
              "\n",
              "    </div>\n",
              "  </div>\n"
            ],
            "application/vnd.google.colaboratory.intrinsic+json": {
              "type": "dataframe",
              "variable_name": "data"
            }
          },
          "metadata": {},
          "execution_count": 222
        }
      ],
      "source": [
        "# Cargamos la información inicial\n",
        "data = pd.read_csv('Big5raw.csv')\n",
        "data.head()"
      ]
    },
    {
      "cell_type": "code",
      "source": [
        "# Guardamos la cantidad de datos para identificar los que se van eliminando\n",
        "d1 = len(data)"
      ],
      "metadata": {
        "id": "HCJe9Jj9Gu8E"
      },
      "execution_count": null,
      "outputs": []
    },
    {
      "cell_type": "markdown",
      "source": [
        "## *Limpieza de datos*"
      ],
      "metadata": {
        "id": "8WyjE-JKw4Dq"
      }
    },
    {
      "cell_type": "markdown",
      "source": [
        "Gracias al *'codebook'* proporcionado podemos notar que todos aquellos campos que toman el valor **0** hacen alusión a que dicha respuesta no fue contestada por el usuario, así que no aporta valor dentro de nuestros análisis, por lo que procederemos a eliminar todos estos."
      ],
      "metadata": {
        "id": "qvdBt_u6F2RU"
      }
    },
    {
      "cell_type": "code",
      "source": [
        "# Eliminamos aquellas filas que toman un 0 dentro de los campos\n",
        "data = data[data != 0].dropna()\n",
        "\n",
        "# Obtenemos la cantidad de registros que se eliminaron\n",
        "aux = len(data)\n",
        "aux1 = d1 - aux\n",
        "print(f'Se eliminaron {aux1} registros')"
      ],
      "metadata": {
        "colab": {
          "base_uri": "https://localhost:8080/"
        },
        "id": "BpHLSwq-GlYy",
        "outputId": "fde022b3-ba21-42d0-efad-1a97f6f90277"
      },
      "execution_count": null,
      "outputs": [
        {
          "output_type": "stream",
          "name": "stdout",
          "text": [
            "Se eliminaron 352 registros\n"
          ]
        }
      ]
    },
    {
      "cell_type": "markdown",
      "source": [
        "Otra de las selecciones que tenemos que hacer es con respecto a la edad que tiene cada uno de los encuestados, seleccionamos todos aquellos que son tienen 66 años o menos."
      ],
      "metadata": {
        "id": "yIAgoLX8oWu5"
      }
    },
    {
      "cell_type": "code",
      "source": [
        "# Eliminamos aquellas filas en donde el encuestado es mayor a 66 años\n",
        "data = data[data['age'] <= 66]\n",
        "\n",
        "# Identificamos la cantidad de registros que se eliminaron\n",
        "aux1 = len(data)\n",
        "aux = aux - aux1\n",
        "print(f'Se eliminaron {aux} registros')"
      ],
      "metadata": {
        "colab": {
          "base_uri": "https://localhost:8080/"
        },
        "id": "V-fbyK9RHehH",
        "outputId": "4be22439-aa9b-4b95-d2f7-266036e9e9d9"
      },
      "execution_count": null,
      "outputs": [
        {
          "output_type": "stream",
          "name": "stdout",
          "text": [
            "Se eliminaron 181 registros\n"
          ]
        }
      ]
    },
    {
      "cell_type": "markdown",
      "source": [
        "Para la siguiente parte fue necesario extraer la información correspondiente al *ISO country code*."
      ],
      "metadata": {
        "id": "GW2UNNtpooZB"
      }
    },
    {
      "cell_type": "code",
      "source": [
        "# Cargamos la ISO\n",
        "df = pd.read_csv('ISO_cc.csv', encoding='ISO-8859-1')\n",
        "df.head()"
      ],
      "metadata": {
        "colab": {
          "base_uri": "https://localhost:8080/",
          "height": 206
        },
        "id": "LMZv1vvAKq7A",
        "outputId": "a83a7cd1-412b-479a-84e2-6c944122e5b9"
      },
      "execution_count": null,
      "outputs": [
        {
          "output_type": "execute_result",
          "data": {
            "text/plain": [
              "  CODE    Country Name\n",
              "0   AF     Afghanistan\n",
              "1   AX   Aland Islands\n",
              "2   AL         Albania\n",
              "3   DZ         Algeria\n",
              "4   AS  American Samoa"
            ],
            "text/html": [
              "\n",
              "  <div id=\"df-859b134d-1387-4ce7-ae4f-6a0a1acafba5\" class=\"colab-df-container\">\n",
              "    <div>\n",
              "<style scoped>\n",
              "    .dataframe tbody tr th:only-of-type {\n",
              "        vertical-align: middle;\n",
              "    }\n",
              "\n",
              "    .dataframe tbody tr th {\n",
              "        vertical-align: top;\n",
              "    }\n",
              "\n",
              "    .dataframe thead th {\n",
              "        text-align: right;\n",
              "    }\n",
              "</style>\n",
              "<table border=\"1\" class=\"dataframe\">\n",
              "  <thead>\n",
              "    <tr style=\"text-align: right;\">\n",
              "      <th></th>\n",
              "      <th>CODE</th>\n",
              "      <th>Country Name</th>\n",
              "    </tr>\n",
              "  </thead>\n",
              "  <tbody>\n",
              "    <tr>\n",
              "      <th>0</th>\n",
              "      <td>AF</td>\n",
              "      <td>Afghanistan</td>\n",
              "    </tr>\n",
              "    <tr>\n",
              "      <th>1</th>\n",
              "      <td>AX</td>\n",
              "      <td>Aland Islands</td>\n",
              "    </tr>\n",
              "    <tr>\n",
              "      <th>2</th>\n",
              "      <td>AL</td>\n",
              "      <td>Albania</td>\n",
              "    </tr>\n",
              "    <tr>\n",
              "      <th>3</th>\n",
              "      <td>DZ</td>\n",
              "      <td>Algeria</td>\n",
              "    </tr>\n",
              "    <tr>\n",
              "      <th>4</th>\n",
              "      <td>AS</td>\n",
              "      <td>American Samoa</td>\n",
              "    </tr>\n",
              "  </tbody>\n",
              "</table>\n",
              "</div>\n",
              "    <div class=\"colab-df-buttons\">\n",
              "\n",
              "  <div class=\"colab-df-container\">\n",
              "    <button class=\"colab-df-convert\" onclick=\"convertToInteractive('df-859b134d-1387-4ce7-ae4f-6a0a1acafba5')\"\n",
              "            title=\"Convert this dataframe to an interactive table.\"\n",
              "            style=\"display:none;\">\n",
              "\n",
              "  <svg xmlns=\"http://www.w3.org/2000/svg\" height=\"24px\" viewBox=\"0 -960 960 960\">\n",
              "    <path d=\"M120-120v-720h720v720H120Zm60-500h600v-160H180v160Zm220 220h160v-160H400v160Zm0 220h160v-160H400v160ZM180-400h160v-160H180v160Zm440 0h160v-160H620v160ZM180-180h160v-160H180v160Zm440 0h160v-160H620v160Z\"/>\n",
              "  </svg>\n",
              "    </button>\n",
              "\n",
              "  <style>\n",
              "    .colab-df-container {\n",
              "      display:flex;\n",
              "      gap: 12px;\n",
              "    }\n",
              "\n",
              "    .colab-df-convert {\n",
              "      background-color: #E8F0FE;\n",
              "      border: none;\n",
              "      border-radius: 50%;\n",
              "      cursor: pointer;\n",
              "      display: none;\n",
              "      fill: #1967D2;\n",
              "      height: 32px;\n",
              "      padding: 0 0 0 0;\n",
              "      width: 32px;\n",
              "    }\n",
              "\n",
              "    .colab-df-convert:hover {\n",
              "      background-color: #E2EBFA;\n",
              "      box-shadow: 0px 1px 2px rgba(60, 64, 67, 0.3), 0px 1px 3px 1px rgba(60, 64, 67, 0.15);\n",
              "      fill: #174EA6;\n",
              "    }\n",
              "\n",
              "    .colab-df-buttons div {\n",
              "      margin-bottom: 4px;\n",
              "    }\n",
              "\n",
              "    [theme=dark] .colab-df-convert {\n",
              "      background-color: #3B4455;\n",
              "      fill: #D2E3FC;\n",
              "    }\n",
              "\n",
              "    [theme=dark] .colab-df-convert:hover {\n",
              "      background-color: #434B5C;\n",
              "      box-shadow: 0px 1px 3px 1px rgba(0, 0, 0, 0.15);\n",
              "      filter: drop-shadow(0px 1px 2px rgba(0, 0, 0, 0.3));\n",
              "      fill: #FFFFFF;\n",
              "    }\n",
              "  </style>\n",
              "\n",
              "    <script>\n",
              "      const buttonEl =\n",
              "        document.querySelector('#df-859b134d-1387-4ce7-ae4f-6a0a1acafba5 button.colab-df-convert');\n",
              "      buttonEl.style.display =\n",
              "        google.colab.kernel.accessAllowed ? 'block' : 'none';\n",
              "\n",
              "      async function convertToInteractive(key) {\n",
              "        const element = document.querySelector('#df-859b134d-1387-4ce7-ae4f-6a0a1acafba5');\n",
              "        const dataTable =\n",
              "          await google.colab.kernel.invokeFunction('convertToInteractive',\n",
              "                                                    [key], {});\n",
              "        if (!dataTable) return;\n",
              "\n",
              "        const docLinkHtml = 'Like what you see? Visit the ' +\n",
              "          '<a target=\"_blank\" href=https://colab.research.google.com/notebooks/data_table.ipynb>data table notebook</a>'\n",
              "          + ' to learn more about interactive tables.';\n",
              "        element.innerHTML = '';\n",
              "        dataTable['output_type'] = 'display_data';\n",
              "        await google.colab.output.renderOutput(dataTable, element);\n",
              "        const docLink = document.createElement('div');\n",
              "        docLink.innerHTML = docLinkHtml;\n",
              "        element.appendChild(docLink);\n",
              "      }\n",
              "    </script>\n",
              "  </div>\n",
              "\n",
              "\n",
              "<div id=\"df-fab8351c-539f-4256-9285-100f6d238319\">\n",
              "  <button class=\"colab-df-quickchart\" onclick=\"quickchart('df-fab8351c-539f-4256-9285-100f6d238319')\"\n",
              "            title=\"Suggest charts\"\n",
              "            style=\"display:none;\">\n",
              "\n",
              "<svg xmlns=\"http://www.w3.org/2000/svg\" height=\"24px\"viewBox=\"0 0 24 24\"\n",
              "     width=\"24px\">\n",
              "    <g>\n",
              "        <path d=\"M19 3H5c-1.1 0-2 .9-2 2v14c0 1.1.9 2 2 2h14c1.1 0 2-.9 2-2V5c0-1.1-.9-2-2-2zM9 17H7v-7h2v7zm4 0h-2V7h2v10zm4 0h-2v-4h2v4z\"/>\n",
              "    </g>\n",
              "</svg>\n",
              "  </button>\n",
              "\n",
              "<style>\n",
              "  .colab-df-quickchart {\n",
              "      --bg-color: #E8F0FE;\n",
              "      --fill-color: #1967D2;\n",
              "      --hover-bg-color: #E2EBFA;\n",
              "      --hover-fill-color: #174EA6;\n",
              "      --disabled-fill-color: #AAA;\n",
              "      --disabled-bg-color: #DDD;\n",
              "  }\n",
              "\n",
              "  [theme=dark] .colab-df-quickchart {\n",
              "      --bg-color: #3B4455;\n",
              "      --fill-color: #D2E3FC;\n",
              "      --hover-bg-color: #434B5C;\n",
              "      --hover-fill-color: #FFFFFF;\n",
              "      --disabled-bg-color: #3B4455;\n",
              "      --disabled-fill-color: #666;\n",
              "  }\n",
              "\n",
              "  .colab-df-quickchart {\n",
              "    background-color: var(--bg-color);\n",
              "    border: none;\n",
              "    border-radius: 50%;\n",
              "    cursor: pointer;\n",
              "    display: none;\n",
              "    fill: var(--fill-color);\n",
              "    height: 32px;\n",
              "    padding: 0;\n",
              "    width: 32px;\n",
              "  }\n",
              "\n",
              "  .colab-df-quickchart:hover {\n",
              "    background-color: var(--hover-bg-color);\n",
              "    box-shadow: 0 1px 2px rgba(60, 64, 67, 0.3), 0 1px 3px 1px rgba(60, 64, 67, 0.15);\n",
              "    fill: var(--button-hover-fill-color);\n",
              "  }\n",
              "\n",
              "  .colab-df-quickchart-complete:disabled,\n",
              "  .colab-df-quickchart-complete:disabled:hover {\n",
              "    background-color: var(--disabled-bg-color);\n",
              "    fill: var(--disabled-fill-color);\n",
              "    box-shadow: none;\n",
              "  }\n",
              "\n",
              "  .colab-df-spinner {\n",
              "    border: 2px solid var(--fill-color);\n",
              "    border-color: transparent;\n",
              "    border-bottom-color: var(--fill-color);\n",
              "    animation:\n",
              "      spin 1s steps(1) infinite;\n",
              "  }\n",
              "\n",
              "  @keyframes spin {\n",
              "    0% {\n",
              "      border-color: transparent;\n",
              "      border-bottom-color: var(--fill-color);\n",
              "      border-left-color: var(--fill-color);\n",
              "    }\n",
              "    20% {\n",
              "      border-color: transparent;\n",
              "      border-left-color: var(--fill-color);\n",
              "      border-top-color: var(--fill-color);\n",
              "    }\n",
              "    30% {\n",
              "      border-color: transparent;\n",
              "      border-left-color: var(--fill-color);\n",
              "      border-top-color: var(--fill-color);\n",
              "      border-right-color: var(--fill-color);\n",
              "    }\n",
              "    40% {\n",
              "      border-color: transparent;\n",
              "      border-right-color: var(--fill-color);\n",
              "      border-top-color: var(--fill-color);\n",
              "    }\n",
              "    60% {\n",
              "      border-color: transparent;\n",
              "      border-right-color: var(--fill-color);\n",
              "    }\n",
              "    80% {\n",
              "      border-color: transparent;\n",
              "      border-right-color: var(--fill-color);\n",
              "      border-bottom-color: var(--fill-color);\n",
              "    }\n",
              "    90% {\n",
              "      border-color: transparent;\n",
              "      border-bottom-color: var(--fill-color);\n",
              "    }\n",
              "  }\n",
              "</style>\n",
              "\n",
              "  <script>\n",
              "    async function quickchart(key) {\n",
              "      const quickchartButtonEl =\n",
              "        document.querySelector('#' + key + ' button');\n",
              "      quickchartButtonEl.disabled = true;  // To prevent multiple clicks.\n",
              "      quickchartButtonEl.classList.add('colab-df-spinner');\n",
              "      try {\n",
              "        const charts = await google.colab.kernel.invokeFunction(\n",
              "            'suggestCharts', [key], {});\n",
              "      } catch (error) {\n",
              "        console.error('Error during call to suggestCharts:', error);\n",
              "      }\n",
              "      quickchartButtonEl.classList.remove('colab-df-spinner');\n",
              "      quickchartButtonEl.classList.add('colab-df-quickchart-complete');\n",
              "    }\n",
              "    (() => {\n",
              "      let quickchartButtonEl =\n",
              "        document.querySelector('#df-fab8351c-539f-4256-9285-100f6d238319 button');\n",
              "      quickchartButtonEl.style.display =\n",
              "        google.colab.kernel.accessAllowed ? 'block' : 'none';\n",
              "    })();\n",
              "  </script>\n",
              "</div>\n",
              "\n",
              "    </div>\n",
              "  </div>\n"
            ],
            "application/vnd.google.colaboratory.intrinsic+json": {
              "type": "dataframe",
              "variable_name": "df",
              "summary": "{\n  \"name\": \"df\",\n  \"rows\": 246,\n  \"fields\": [\n    {\n      \"column\": \"CODE\",\n      \"properties\": {\n        \"dtype\": \"string\",\n        \"num_unique_values\": 245,\n        \"samples\": [\n          \"BM\",\n          \"AO\",\n          \"NL\"\n        ],\n        \"semantic_type\": \"\",\n        \"description\": \"\"\n      }\n    },\n    {\n      \"column\": \"Country Name\",\n      \"properties\": {\n        \"dtype\": \"string\",\n        \"num_unique_values\": 246,\n        \"samples\": [\n          \"Bulgaria\",\n          \"Angola\",\n          \"Russian Federation\"\n        ],\n        \"semantic_type\": \"\",\n        \"description\": \"\"\n      }\n    }\n  ]\n}"
            }
          },
          "metadata": {},
          "execution_count": 226
        }
      ]
    },
    {
      "cell_type": "markdown",
      "source": [
        "Lo que sigue es realizar un cruce entre la información de la encuesta de personalidad con la tabla ISO, esto a modo de validar que el código asociado al país del que proviene el encuestado sea válido, dejando fuera aquellos que no coinciden."
      ],
      "metadata": {
        "id": "EcnPuSUBo9pX"
      }
    },
    {
      "cell_type": "code",
      "source": [
        "# Realizamos el cruce\n",
        "data_join = data.merge(df, left_on='country', right_on='CODE', how='inner')\n",
        "data_join.head()"
      ],
      "metadata": {
        "colab": {
          "base_uri": "https://localhost:8080/",
          "height": 360
        },
        "id": "HEJobOcyMXFh",
        "outputId": "16426edd-f798-4158-a3ea-82d5fd598e51"
      },
      "execution_count": null,
      "outputs": [
        {
          "output_type": "execute_result",
          "data": {
            "text/plain": [
              "   race   age  engnat  gender  hand  source country   E1   E2   E3  ...   O3  \\\n",
              "0   3.0  53.0     1.0     1.0   1.0       1      US  4.0  2.0  5.0  ...  3.0   \n",
              "1  13.0  46.0     1.0     2.0   1.0       1      US  2.0  2.0  3.0  ...  3.0   \n",
              "2  11.0  25.0     2.0     2.0   1.0       2      US  3.0  1.0  3.0  ...  1.0   \n",
              "3  13.0  31.0     1.0     2.0   1.0       2      US  1.0  5.0  2.0  ...  1.0   \n",
              "4   5.0  20.0     1.0     2.0   1.0       5      US  5.0  1.0  5.0  ...  5.0   \n",
              "\n",
              "    O4   O5   O6   O7   O8   O9  O10  CODE   Country Name  \n",
              "0  1.0  5.0  1.0  4.0  2.0  5.0  5.0    US  United States  \n",
              "1  3.0  2.0  3.0  3.0  1.0  3.0  2.0    US  United States  \n",
              "2  1.0  3.0  1.0  3.0  1.0  5.0  3.0    US  United States  \n",
              "3  3.0  3.0  5.0  5.0  4.0  5.0  3.0    US  United States  \n",
              "4  1.0  4.0  1.0  4.0  3.0  3.0  4.0    US  United States  \n",
              "\n",
              "[5 rows x 59 columns]"
            ],
            "text/html": [
              "\n",
              "  <div id=\"df-39971221-7951-4f59-88a0-e29d507a4064\" class=\"colab-df-container\">\n",
              "    <div>\n",
              "<style scoped>\n",
              "    .dataframe tbody tr th:only-of-type {\n",
              "        vertical-align: middle;\n",
              "    }\n",
              "\n",
              "    .dataframe tbody tr th {\n",
              "        vertical-align: top;\n",
              "    }\n",
              "\n",
              "    .dataframe thead th {\n",
              "        text-align: right;\n",
              "    }\n",
              "</style>\n",
              "<table border=\"1\" class=\"dataframe\">\n",
              "  <thead>\n",
              "    <tr style=\"text-align: right;\">\n",
              "      <th></th>\n",
              "      <th>race</th>\n",
              "      <th>age</th>\n",
              "      <th>engnat</th>\n",
              "      <th>gender</th>\n",
              "      <th>hand</th>\n",
              "      <th>source</th>\n",
              "      <th>country</th>\n",
              "      <th>E1</th>\n",
              "      <th>E2</th>\n",
              "      <th>E3</th>\n",
              "      <th>...</th>\n",
              "      <th>O3</th>\n",
              "      <th>O4</th>\n",
              "      <th>O5</th>\n",
              "      <th>O6</th>\n",
              "      <th>O7</th>\n",
              "      <th>O8</th>\n",
              "      <th>O9</th>\n",
              "      <th>O10</th>\n",
              "      <th>CODE</th>\n",
              "      <th>Country Name</th>\n",
              "    </tr>\n",
              "  </thead>\n",
              "  <tbody>\n",
              "    <tr>\n",
              "      <th>0</th>\n",
              "      <td>3.0</td>\n",
              "      <td>53.0</td>\n",
              "      <td>1.0</td>\n",
              "      <td>1.0</td>\n",
              "      <td>1.0</td>\n",
              "      <td>1</td>\n",
              "      <td>US</td>\n",
              "      <td>4.0</td>\n",
              "      <td>2.0</td>\n",
              "      <td>5.0</td>\n",
              "      <td>...</td>\n",
              "      <td>3.0</td>\n",
              "      <td>1.0</td>\n",
              "      <td>5.0</td>\n",
              "      <td>1.0</td>\n",
              "      <td>4.0</td>\n",
              "      <td>2.0</td>\n",
              "      <td>5.0</td>\n",
              "      <td>5.0</td>\n",
              "      <td>US</td>\n",
              "      <td>United States</td>\n",
              "    </tr>\n",
              "    <tr>\n",
              "      <th>1</th>\n",
              "      <td>13.0</td>\n",
              "      <td>46.0</td>\n",
              "      <td>1.0</td>\n",
              "      <td>2.0</td>\n",
              "      <td>1.0</td>\n",
              "      <td>1</td>\n",
              "      <td>US</td>\n",
              "      <td>2.0</td>\n",
              "      <td>2.0</td>\n",
              "      <td>3.0</td>\n",
              "      <td>...</td>\n",
              "      <td>3.0</td>\n",
              "      <td>3.0</td>\n",
              "      <td>2.0</td>\n",
              "      <td>3.0</td>\n",
              "      <td>3.0</td>\n",
              "      <td>1.0</td>\n",
              "      <td>3.0</td>\n",
              "      <td>2.0</td>\n",
              "      <td>US</td>\n",
              "      <td>United States</td>\n",
              "    </tr>\n",
              "    <tr>\n",
              "      <th>2</th>\n",
              "      <td>11.0</td>\n",
              "      <td>25.0</td>\n",
              "      <td>2.0</td>\n",
              "      <td>2.0</td>\n",
              "      <td>1.0</td>\n",
              "      <td>2</td>\n",
              "      <td>US</td>\n",
              "      <td>3.0</td>\n",
              "      <td>1.0</td>\n",
              "      <td>3.0</td>\n",
              "      <td>...</td>\n",
              "      <td>1.0</td>\n",
              "      <td>1.0</td>\n",
              "      <td>3.0</td>\n",
              "      <td>1.0</td>\n",
              "      <td>3.0</td>\n",
              "      <td>1.0</td>\n",
              "      <td>5.0</td>\n",
              "      <td>3.0</td>\n",
              "      <td>US</td>\n",
              "      <td>United States</td>\n",
              "    </tr>\n",
              "    <tr>\n",
              "      <th>3</th>\n",
              "      <td>13.0</td>\n",
              "      <td>31.0</td>\n",
              "      <td>1.0</td>\n",
              "      <td>2.0</td>\n",
              "      <td>1.0</td>\n",
              "      <td>2</td>\n",
              "      <td>US</td>\n",
              "      <td>1.0</td>\n",
              "      <td>5.0</td>\n",
              "      <td>2.0</td>\n",
              "      <td>...</td>\n",
              "      <td>1.0</td>\n",
              "      <td>3.0</td>\n",
              "      <td>3.0</td>\n",
              "      <td>5.0</td>\n",
              "      <td>5.0</td>\n",
              "      <td>4.0</td>\n",
              "      <td>5.0</td>\n",
              "      <td>3.0</td>\n",
              "      <td>US</td>\n",
              "      <td>United States</td>\n",
              "    </tr>\n",
              "    <tr>\n",
              "      <th>4</th>\n",
              "      <td>5.0</td>\n",
              "      <td>20.0</td>\n",
              "      <td>1.0</td>\n",
              "      <td>2.0</td>\n",
              "      <td>1.0</td>\n",
              "      <td>5</td>\n",
              "      <td>US</td>\n",
              "      <td>5.0</td>\n",
              "      <td>1.0</td>\n",
              "      <td>5.0</td>\n",
              "      <td>...</td>\n",
              "      <td>5.0</td>\n",
              "      <td>1.0</td>\n",
              "      <td>4.0</td>\n",
              "      <td>1.0</td>\n",
              "      <td>4.0</td>\n",
              "      <td>3.0</td>\n",
              "      <td>3.0</td>\n",
              "      <td>4.0</td>\n",
              "      <td>US</td>\n",
              "      <td>United States</td>\n",
              "    </tr>\n",
              "  </tbody>\n",
              "</table>\n",
              "<p>5 rows × 59 columns</p>\n",
              "</div>\n",
              "    <div class=\"colab-df-buttons\">\n",
              "\n",
              "  <div class=\"colab-df-container\">\n",
              "    <button class=\"colab-df-convert\" onclick=\"convertToInteractive('df-39971221-7951-4f59-88a0-e29d507a4064')\"\n",
              "            title=\"Convert this dataframe to an interactive table.\"\n",
              "            style=\"display:none;\">\n",
              "\n",
              "  <svg xmlns=\"http://www.w3.org/2000/svg\" height=\"24px\" viewBox=\"0 -960 960 960\">\n",
              "    <path d=\"M120-120v-720h720v720H120Zm60-500h600v-160H180v160Zm220 220h160v-160H400v160Zm0 220h160v-160H400v160ZM180-400h160v-160H180v160Zm440 0h160v-160H620v160ZM180-180h160v-160H180v160Zm440 0h160v-160H620v160Z\"/>\n",
              "  </svg>\n",
              "    </button>\n",
              "\n",
              "  <style>\n",
              "    .colab-df-container {\n",
              "      display:flex;\n",
              "      gap: 12px;\n",
              "    }\n",
              "\n",
              "    .colab-df-convert {\n",
              "      background-color: #E8F0FE;\n",
              "      border: none;\n",
              "      border-radius: 50%;\n",
              "      cursor: pointer;\n",
              "      display: none;\n",
              "      fill: #1967D2;\n",
              "      height: 32px;\n",
              "      padding: 0 0 0 0;\n",
              "      width: 32px;\n",
              "    }\n",
              "\n",
              "    .colab-df-convert:hover {\n",
              "      background-color: #E2EBFA;\n",
              "      box-shadow: 0px 1px 2px rgba(60, 64, 67, 0.3), 0px 1px 3px 1px rgba(60, 64, 67, 0.15);\n",
              "      fill: #174EA6;\n",
              "    }\n",
              "\n",
              "    .colab-df-buttons div {\n",
              "      margin-bottom: 4px;\n",
              "    }\n",
              "\n",
              "    [theme=dark] .colab-df-convert {\n",
              "      background-color: #3B4455;\n",
              "      fill: #D2E3FC;\n",
              "    }\n",
              "\n",
              "    [theme=dark] .colab-df-convert:hover {\n",
              "      background-color: #434B5C;\n",
              "      box-shadow: 0px 1px 3px 1px rgba(0, 0, 0, 0.15);\n",
              "      filter: drop-shadow(0px 1px 2px rgba(0, 0, 0, 0.3));\n",
              "      fill: #FFFFFF;\n",
              "    }\n",
              "  </style>\n",
              "\n",
              "    <script>\n",
              "      const buttonEl =\n",
              "        document.querySelector('#df-39971221-7951-4f59-88a0-e29d507a4064 button.colab-df-convert');\n",
              "      buttonEl.style.display =\n",
              "        google.colab.kernel.accessAllowed ? 'block' : 'none';\n",
              "\n",
              "      async function convertToInteractive(key) {\n",
              "        const element = document.querySelector('#df-39971221-7951-4f59-88a0-e29d507a4064');\n",
              "        const dataTable =\n",
              "          await google.colab.kernel.invokeFunction('convertToInteractive',\n",
              "                                                    [key], {});\n",
              "        if (!dataTable) return;\n",
              "\n",
              "        const docLinkHtml = 'Like what you see? Visit the ' +\n",
              "          '<a target=\"_blank\" href=https://colab.research.google.com/notebooks/data_table.ipynb>data table notebook</a>'\n",
              "          + ' to learn more about interactive tables.';\n",
              "        element.innerHTML = '';\n",
              "        dataTable['output_type'] = 'display_data';\n",
              "        await google.colab.output.renderOutput(dataTable, element);\n",
              "        const docLink = document.createElement('div');\n",
              "        docLink.innerHTML = docLinkHtml;\n",
              "        element.appendChild(docLink);\n",
              "      }\n",
              "    </script>\n",
              "  </div>\n",
              "\n",
              "\n",
              "<div id=\"df-c58daaa4-d47b-4980-888a-88a9bf84c8c6\">\n",
              "  <button class=\"colab-df-quickchart\" onclick=\"quickchart('df-c58daaa4-d47b-4980-888a-88a9bf84c8c6')\"\n",
              "            title=\"Suggest charts\"\n",
              "            style=\"display:none;\">\n",
              "\n",
              "<svg xmlns=\"http://www.w3.org/2000/svg\" height=\"24px\"viewBox=\"0 0 24 24\"\n",
              "     width=\"24px\">\n",
              "    <g>\n",
              "        <path d=\"M19 3H5c-1.1 0-2 .9-2 2v14c0 1.1.9 2 2 2h14c1.1 0 2-.9 2-2V5c0-1.1-.9-2-2-2zM9 17H7v-7h2v7zm4 0h-2V7h2v10zm4 0h-2v-4h2v4z\"/>\n",
              "    </g>\n",
              "</svg>\n",
              "  </button>\n",
              "\n",
              "<style>\n",
              "  .colab-df-quickchart {\n",
              "      --bg-color: #E8F0FE;\n",
              "      --fill-color: #1967D2;\n",
              "      --hover-bg-color: #E2EBFA;\n",
              "      --hover-fill-color: #174EA6;\n",
              "      --disabled-fill-color: #AAA;\n",
              "      --disabled-bg-color: #DDD;\n",
              "  }\n",
              "\n",
              "  [theme=dark] .colab-df-quickchart {\n",
              "      --bg-color: #3B4455;\n",
              "      --fill-color: #D2E3FC;\n",
              "      --hover-bg-color: #434B5C;\n",
              "      --hover-fill-color: #FFFFFF;\n",
              "      --disabled-bg-color: #3B4455;\n",
              "      --disabled-fill-color: #666;\n",
              "  }\n",
              "\n",
              "  .colab-df-quickchart {\n",
              "    background-color: var(--bg-color);\n",
              "    border: none;\n",
              "    border-radius: 50%;\n",
              "    cursor: pointer;\n",
              "    display: none;\n",
              "    fill: var(--fill-color);\n",
              "    height: 32px;\n",
              "    padding: 0;\n",
              "    width: 32px;\n",
              "  }\n",
              "\n",
              "  .colab-df-quickchart:hover {\n",
              "    background-color: var(--hover-bg-color);\n",
              "    box-shadow: 0 1px 2px rgba(60, 64, 67, 0.3), 0 1px 3px 1px rgba(60, 64, 67, 0.15);\n",
              "    fill: var(--button-hover-fill-color);\n",
              "  }\n",
              "\n",
              "  .colab-df-quickchart-complete:disabled,\n",
              "  .colab-df-quickchart-complete:disabled:hover {\n",
              "    background-color: var(--disabled-bg-color);\n",
              "    fill: var(--disabled-fill-color);\n",
              "    box-shadow: none;\n",
              "  }\n",
              "\n",
              "  .colab-df-spinner {\n",
              "    border: 2px solid var(--fill-color);\n",
              "    border-color: transparent;\n",
              "    border-bottom-color: var(--fill-color);\n",
              "    animation:\n",
              "      spin 1s steps(1) infinite;\n",
              "  }\n",
              "\n",
              "  @keyframes spin {\n",
              "    0% {\n",
              "      border-color: transparent;\n",
              "      border-bottom-color: var(--fill-color);\n",
              "      border-left-color: var(--fill-color);\n",
              "    }\n",
              "    20% {\n",
              "      border-color: transparent;\n",
              "      border-left-color: var(--fill-color);\n",
              "      border-top-color: var(--fill-color);\n",
              "    }\n",
              "    30% {\n",
              "      border-color: transparent;\n",
              "      border-left-color: var(--fill-color);\n",
              "      border-top-color: var(--fill-color);\n",
              "      border-right-color: var(--fill-color);\n",
              "    }\n",
              "    40% {\n",
              "      border-color: transparent;\n",
              "      border-right-color: var(--fill-color);\n",
              "      border-top-color: var(--fill-color);\n",
              "    }\n",
              "    60% {\n",
              "      border-color: transparent;\n",
              "      border-right-color: var(--fill-color);\n",
              "    }\n",
              "    80% {\n",
              "      border-color: transparent;\n",
              "      border-right-color: var(--fill-color);\n",
              "      border-bottom-color: var(--fill-color);\n",
              "    }\n",
              "    90% {\n",
              "      border-color: transparent;\n",
              "      border-bottom-color: var(--fill-color);\n",
              "    }\n",
              "  }\n",
              "</style>\n",
              "\n",
              "  <script>\n",
              "    async function quickchart(key) {\n",
              "      const quickchartButtonEl =\n",
              "        document.querySelector('#' + key + ' button');\n",
              "      quickchartButtonEl.disabled = true;  // To prevent multiple clicks.\n",
              "      quickchartButtonEl.classList.add('colab-df-spinner');\n",
              "      try {\n",
              "        const charts = await google.colab.kernel.invokeFunction(\n",
              "            'suggestCharts', [key], {});\n",
              "      } catch (error) {\n",
              "        console.error('Error during call to suggestCharts:', error);\n",
              "      }\n",
              "      quickchartButtonEl.classList.remove('colab-df-spinner');\n",
              "      quickchartButtonEl.classList.add('colab-df-quickchart-complete');\n",
              "    }\n",
              "    (() => {\n",
              "      let quickchartButtonEl =\n",
              "        document.querySelector('#df-c58daaa4-d47b-4980-888a-88a9bf84c8c6 button');\n",
              "      quickchartButtonEl.style.display =\n",
              "        google.colab.kernel.accessAllowed ? 'block' : 'none';\n",
              "    })();\n",
              "  </script>\n",
              "</div>\n",
              "\n",
              "    </div>\n",
              "  </div>\n"
            ],
            "application/vnd.google.colaboratory.intrinsic+json": {
              "type": "dataframe",
              "variable_name": "data_join"
            }
          },
          "metadata": {},
          "execution_count": 227
        }
      ]
    },
    {
      "cell_type": "code",
      "source": [
        "# Identificamos la cantidad de valores que fueron eliminados\n",
        "aux = len(data_join)\n",
        "aux1 = aux1 - aux\n",
        "print(f'Se eliminaron {aux1} registros')"
      ],
      "metadata": {
        "colab": {
          "base_uri": "https://localhost:8080/"
        },
        "id": "j255aabbMl8I",
        "outputId": "6ae2b391-013c-434b-e90c-b87dde2f057f"
      },
      "execution_count": null,
      "outputs": [
        {
          "output_type": "stream",
          "name": "stdout",
          "text": [
            "Se eliminaron 420 registros\n"
          ]
        }
      ]
    },
    {
      "cell_type": "markdown",
      "source": [
        "Como siguiente paso, tenemos que eliminar aquellos valores faltantes que se encuentran dentro de las variables demográficas, es decir, dentro de las columnas *race,\tage,\tengnat,\tgender,\thand,\tsource y country.*"
      ],
      "metadata": {
        "id": "YDN9l8yGuD6s"
      }
    },
    {
      "cell_type": "code",
      "source": [
        "# Variables\n",
        "variables = ['race', 'age', 'engnat', 'gender', 'hand', 'source', 'country']\n",
        "\n",
        "# Eliminamos los valores faltantes\n",
        "data_join = data_join.dropna(subset=variables)"
      ],
      "metadata": {
        "id": "VixpVKA3uDBK"
      },
      "execution_count": null,
      "outputs": []
    },
    {
      "cell_type": "code",
      "source": [
        "# Identificamos la cantidad de valores eliminados\n",
        "aux1 = len(data_join)\n",
        "aux = aux - aux1\n",
        "print(f'Se eliminaron {aux} registros')"
      ],
      "metadata": {
        "colab": {
          "base_uri": "https://localhost:8080/"
        },
        "id": "4QHtrwoiugq5",
        "outputId": "ea2d5b3b-464b-4d4c-9dc3-46e5340e6445"
      },
      "execution_count": null,
      "outputs": [
        {
          "output_type": "stream",
          "name": "stdout",
          "text": [
            "Se eliminaron 0 registros\n"
          ]
        }
      ]
    },
    {
      "cell_type": "markdown",
      "source": [
        "Por último, observamos cuantos valores se eliminaron desde la carga de datos hasta el último paso."
      ],
      "metadata": {
        "id": "s9CqzaarvaeE"
      }
    },
    {
      "cell_type": "code",
      "source": [
        "b = d1 - len(data_join)\n",
        "print(f'Se eliminaron en TOTAL {b} registros')"
      ],
      "metadata": {
        "colab": {
          "base_uri": "https://localhost:8080/"
        },
        "id": "jsdKtdY2vjae",
        "outputId": "f7189782-561b-4cf2-ffea-5150ea8069c0"
      },
      "execution_count": null,
      "outputs": [
        {
          "output_type": "stream",
          "name": "stdout",
          "text": [
            "Se eliminaron en TOTAL 953 registros\n"
          ]
        }
      ]
    },
    {
      "cell_type": "markdown",
      "source": [
        "***NOTA: La selección de las 5 variables representativas se realiza dentro de la estadística descriptiva***"
      ],
      "metadata": {
        "id": "PTjF-Lf1wI-p"
      }
    },
    {
      "cell_type": "markdown",
      "source": [
        "## *PCA*"
      ],
      "metadata": {
        "id": "y2xa8eQgwX02"
      }
    },
    {
      "cell_type": "markdown",
      "source": [
        "Para esta parte, calcularemos el PCA para la totalidad de columnas de nuestra base de datos."
      ],
      "metadata": {
        "id": "akltmE0ewar7"
      }
    },
    {
      "cell_type": "code",
      "source": [
        "# Selección de datos\n",
        "df = data_join[data.columns]\n",
        "features = df.select_dtypes(include=[float, int]).columns\n",
        "\n",
        "# Normalización\n",
        "norm = StandardScaler()\n",
        "df_norm = norm.fit_transform(df[features])\n",
        "\n",
        "# PCA\n",
        "pca = PCA(n_components=None)\n",
        "pca_res = pca.fit_transform(df_norm)\n",
        "\n",
        "# Visualizar la varianza explicada\n",
        "explained_variance = pca.explained_variance_ratio_\n",
        "print(f\"Varianza explicada por cada componente: {explained_variance}\")"
      ],
      "metadata": {
        "colab": {
          "base_uri": "https://localhost:8080/"
        },
        "id": "s0m4CMzX98A_",
        "outputId": "cbcfac90-0a1e-4cc6-c076-27ec0430484d"
      },
      "execution_count": null,
      "outputs": [
        {
          "output_type": "stream",
          "name": "stdout",
          "text": [
            "Varianza explicada por cada componente: [0.14506058 0.08320924 0.06807244 0.06469688 0.04971553 0.03235003\n",
            " 0.02514295 0.0224003  0.02047747 0.01839911 0.01795742 0.0171245\n",
            " 0.01637592 0.01612136 0.01554993 0.01535083 0.01521226 0.0148479\n",
            " 0.01415277 0.0134046  0.01295982 0.01276542 0.01236056 0.01196021\n",
            " 0.01186442 0.01168036 0.01121213 0.01096326 0.01054729 0.01028116\n",
            " 0.01022544 0.00986796 0.00949771 0.00935668 0.00930577 0.0090739\n",
            " 0.00885851 0.00875827 0.00865787 0.00842422 0.00796249 0.0078954\n",
            " 0.00772934 0.00745644 0.00741838 0.0072009  0.00704991 0.0067761\n",
            " 0.00650902 0.00645938 0.00616106 0.00611811 0.00578607 0.0057643\n",
            " 0.00555873 0.00391141]\n"
          ]
        }
      ]
    },
    {
      "cell_type": "code",
      "source": [
        "# Visualizar la varianza acumulada\n",
        "print(f\"Varianza explicada acumulada: {np.cumsum(explained_variance)}\")"
      ],
      "metadata": {
        "colab": {
          "base_uri": "https://localhost:8080/"
        },
        "id": "1Ks3EroQOWuc",
        "outputId": "8b83f9ed-28ca-460c-aea4-14a39b105cf0"
      },
      "execution_count": null,
      "outputs": [
        {
          "output_type": "stream",
          "name": "stdout",
          "text": [
            "Varianza explicada acumulada: [0.14506058 0.22826981 0.29634225 0.36103913 0.41075466 0.44310469\n",
            " 0.46824764 0.49064795 0.51112542 0.52952453 0.54748195 0.56460645\n",
            " 0.58098237 0.59710373 0.61265366 0.62800449 0.64321675 0.65806465\n",
            " 0.67221742 0.68562202 0.69858185 0.71134726 0.72370783 0.73566803\n",
            " 0.74753245 0.75921281 0.77042494 0.7813882  0.79193549 0.80221665\n",
            " 0.81244209 0.82231004 0.83180776 0.84116444 0.85047021 0.8595441\n",
            " 0.86840261 0.87716088 0.88581874 0.89424296 0.90220545 0.91010085\n",
            " 0.91783019 0.92528663 0.932705   0.9399059  0.94695581 0.95373192\n",
            " 0.96024094 0.96670032 0.97286138 0.97897948 0.98476556 0.99052985\n",
            " 0.99608859 1.        ]\n"
          ]
        }
      ]
    },
    {
      "cell_type": "code",
      "source": [
        "# Grafico de la varianza explicada por cada componente\n",
        "plt.figure(figsize=(10, 6))\n",
        "plt.plot(np.cumsum(pca.explained_variance_ratio_), marker='o', linestyle='--', color='r')\n",
        "plt.xlabel('Número de componentes principales')\n",
        "plt.ylabel('Varianza explicada acumulada')\n",
        "plt.title('Varianza explicada acumulada')\n",
        "\n",
        "# Mostrar los gráficos\n",
        "plt.tight_layout()\n",
        "plt.show()\n"
      ],
      "metadata": {
        "colab": {
          "base_uri": "https://localhost:8080/",
          "height": 578
        },
        "id": "GH_tSuVq_siy",
        "outputId": "ae2f006d-993a-469b-b648-b80a37331c48"
      },
      "execution_count": null,
      "outputs": [
        {
          "output_type": "display_data",
          "data": {
            "text/plain": [
              "<Figure size 1000x600 with 1 Axes>"
            ],
            "image/png": "[encoded data removed]"
          },
          "metadata": {}
        }
      ]
    },
    {
      "cell_type": "markdown",
      "source": [
        "En resumen, tenemos que la primera componente explica aproximadamente el *14.5%* de la varianza total, es la que tiene mayor poder explicativo. Tambien podemos observar que cerca del *41%* de la varianza acumulada se explica dentro de los primeros cinco componentes, lo cual, tomando al rededor de 20 a 30 componentes puede abarcar entre el *80%* de la varianza total, dado que las últimas componentes tienen un peso menor conrespecto a las ya observadas, reduciendo la dimensionalidad del universo observado."
      ],
      "metadata": {
        "id": "wlia5QvpGMvY"
      }
    },
    {
      "cell_type": "markdown",
      "source": [
        "## *Clustering*"
      ],
      "metadata": {
        "id": "RrFXDPgUycsj"
      }
    },
    {
      "cell_type": "markdown",
      "source": [
        "A continuación, se realiza el análisis de clustering para 2, 3, 4 y 5 clusteres. Con respecto a la conclusión anterior, identificamos que las más representativas son las primeras 30 variables, dado que explican alrededor del 80% de la varianza acumulada, entonces realizaremos el clustering con estas variables"
      ],
      "metadata": {
        "id": "dCUiyoiKyfTi"
      }
    },
    {
      "cell_type": "code",
      "source": [
        "# Definir el número de clusters a probar\n",
        "n_clusters = [2, 3, 4, 5]\n",
        "cluster_labels = {}\n",
        "\n",
        "# Realizar K-Means para cada número de clusters\n",
        "for k in n_clusters:\n",
        "    kmeans = KMeans(n_clusters=k, random_state=42)\n",
        "    labels = kmeans.fit_predict(pca_res[:,:30])\n",
        "    cluster_labels[k] = labels\n",
        "\n",
        "    # Número de datos en cada cluster\n",
        "    unique, counts = np.unique(labels, return_counts=True)\n",
        "    cluster_counts = dict(zip(unique, counts))\n",
        "\n",
        "    print(f\"Cantidad de datos para {k} clusters: {sorted(cluster_counts.items(), key=lambda item: item[1], reverse=True)}\")\n",
        "    print(f\"Total de datos para {k} clusters: {sum(cluster_counts.values())}\")\n",
        "    print(\"\")"
      ],
      "metadata": {
        "colab": {
          "base_uri": "https://localhost:8080/"
        },
        "id": "dYzGRMFPzF4U",
        "outputId": "9d7dd374-4946-4e6e-8de7-be351849f9d0"
      },
      "execution_count": null,
      "outputs": [
        {
          "output_type": "stream",
          "name": "stdout",
          "text": [
            "Cantidad de datos para 2 clusters: [(1, 9444), (0, 9322)]\n",
            "Total de datos para 2 clusters: 18766\n",
            "\n",
            "Cantidad de datos para 3 clusters: [(2, 6608), (1, 6341), (0, 5817)]\n",
            "Total de datos para 3 clusters: 18766\n",
            "\n",
            "Cantidad de datos para 4 clusters: [(2, 5905), (0, 4892), (1, 4605), (3, 3364)]\n",
            "Total de datos para 4 clusters: 18766\n",
            "\n",
            "Cantidad de datos para 5 clusters: [(0, 4263), (2, 4230), (1, 4010), (3, 3583), (4, 2680)]\n",
            "Total de datos para 5 clusters: 18766\n",
            "\n"
          ]
        }
      ]
    },
    {
      "cell_type": "markdown",
      "source": [
        "El **método del codo**, es una técnica que ayuda a determinar el número óptimo de clústers al realizar una clasificación de un conjunto de datos. Se basa en las distancias intra-cluster, y se interpreta de la siguiente manera:\n",
        "- A mayor número de clústers, la varianza intra-cluster tiende a disminuir.\n",
        "- Menor distancia intra-cluster, mejor, ya que significa que los clústers son más compactos.\n"
      ],
      "metadata": {
        "id": "LOBwjkfqLN9Z"
      }
    },
    {
      "cell_type": "code",
      "source": [
        "# Elige el número óptimo de clusters usando el codo de la varianza\n",
        "inertia = []\n",
        "for k in range(1, 8):\n",
        "    kmeans = KMeans(n_clusters=k, random_state=42)\n",
        "    kmeans.fit(df_norm)\n",
        "    inertia.append(kmeans.inertia_)\n",
        "\n",
        "# Método del codo gráficamente\n",
        "plt.plot(range(1, 8), inertia, marker='o')\n",
        "plt.xlabel('Número de clusters')\n",
        "plt.ylabel('Inercia')\n",
        "plt.title('Método del Codo para encontrar el número óptimo de clusters')\n",
        "plt.show()"
      ],
      "metadata": {
        "colab": {
          "base_uri": "https://localhost:8080/",
          "height": 487
        },
        "id": "1SeGXnZjLNkf",
        "outputId": "60c32e9e-5de9-46aa-c9a5-f5cdc40f7c38"
      },
      "execution_count": null,
      "outputs": [
        {
          "output_type": "display_data",
          "data": {
            "text/plain": [
              "<Figure size 640x480 with 1 Axes>"
            ],
            "image/png": "[encoded data removed]"
          },
          "metadata": {}
        }
      ]
    },
    {
      "cell_type": "markdown",
      "source": [
        "Utilizando el método del Codo, podemos concluir que utilizar $k=2$ o $k=3$ es una buena opción para generar clusters, ya que a partir de estos números, la reducción en la inercia se vuelve menos significativa. Esto indica que agregar más clústeres no aporta información adicional relevante para la segmentación de los datos."
      ],
      "metadata": {
        "id": "0jTzKacn4JZC"
      }
    },
    {
      "cell_type": "markdown",
      "source": [
        "## *Estadística descriptiva*"
      ],
      "metadata": {
        "id": "kkTO9VeHe1Gs"
      }
    },
    {
      "cell_type": "markdown",
      "source": [
        "Con base an codebook proporcionado, tenemos una vista más clara para poder interpretar los valores de cada una de las columnas de nuestra base de datos, en este caso son datos relacionados a la personalidad de cada una de las personas que respondieron el test. Teniendo la siguiente representación para cadea una de las variables:\n",
        "\n",
        "|Column name| Representation|\n",
        "|-|-|\n",
        "|E1\t|I am the life of the party.\n",
        "|E2\t|I don't talk a lot.\n",
        "|E3\t|I feel comfortable around people.\n",
        "|E4\t|I keep in the background.\n",
        "|E5\t|I start conversations.\n",
        "|E6\t|I have little to say.\n",
        "|E7\t|I talk to a lot of different people at parties.\n",
        "|E8\t|I don't like to draw attention to myself.\n",
        "|E9\t|I don't mind being the center of attention.\n",
        "|E10\t|I am quiet around strangers.\n",
        "|N1\t|I get stressed out easily.\n",
        "|N2\t|I am relaxed most of the time.\n",
        "|N3\t|I worry about things.\n",
        "|N4\t|I seldom feel blue.\n",
        "|N5\t|I am easily disturbed.\n",
        "|N6\t|I get upset easily.\n",
        "|N7\t|I change my mood a lot.\n",
        "|N8\t|I have frequent mood swings.\n",
        "|N9\t|I get irritated easily.\n",
        "|N10\t|I often feel blue.\n",
        "|A1\t|I feel little concern for others.\n",
        "|A2\t|I am interested in people.\n",
        "|A3\t|I insult people.\n",
        "|A4\t|I sympathize with others' feelings.\n",
        "|A5\t|I am not interested in other people's problems.\n",
        "|A6\t|I have a soft heart.\n",
        "|A7\t|I am not really interested in others.\n",
        "|A8\t|I take time out for others.\n",
        "|A9\t|I feel others' emotions.\n",
        "|A10\t|I make people feel at ease.\n",
        "|C1\t|I am always prepared.\n",
        "|C2\t|I leave my belongings around.\n",
        "|C3\t|I pay attention to details.\n",
        "|C4\t|I make a mess of things.\n",
        "|C5\t|I get chores done right away.\n",
        "|C6\t|I often forget to put things back in their proper place.\n",
        "|C7\t|I like order.\n",
        "|C8\t|I shirk my duties.\n",
        "|C9\t|I follow a schedule.\n",
        "|C10\t|I am exacting in my work.\n",
        "|O1\t|I have a rich vocabulary.\n",
        "|O2\t|I have difficulty understanding abstract ideas.\n",
        "|O3\t|I have a vivid imagination.\n",
        "|O4\t|I am not interested in abstract ideas.\n",
        "|O5\t|I have excellent ideas.\n",
        "|O6\t|I do not have a good imagination.\n",
        "|O7\t|I am quick to understand things.\n",
        "|O8\t|I use difficult words.\n",
        "|O9\t|I spend time reflecting on things.\n",
        "|O10\t|I am full of ideas.\n"
      ],
      "metadata": {
        "id": "qPFzHx85OyRj"
      }
    },
    {
      "cell_type": "markdown",
      "source": [
        "La representación de cada una de las preguntas antes descritas se asemejan a pruebas psicométricas que en ocasiones se realizan a prospectos para entrar a laborar en una empresa/institución."
      ],
      "metadata": {
        "id": "fU5FYDPJXFVj"
      }
    },
    {
      "cell_type": "markdown",
      "source": [
        "Se ocuparán las siguientes estadísticas a cada uno de los campos:\n",
        "\n",
        "- *Media:* Valor promedio de un conjunto de datos numéricos.\n",
        "- *Mínimo*: Es el valor más pequeño que toma una función/campo.\n",
        "- *Máximo:* Es el valor más grande que toma una función/campo.\n",
        "- *Moda:* Es el número que aparece más veces en un conjunto de datos\n",
        "- *Media redondeada*: Valor promedio de los valores redondeado a cero decimales, esto se realizó con el fin de identificar en que punto se encuentra en promedio la población.\n",
        "- *Desviación estándar:* Medida que indica qué tan dispersos están los datos en relación a la media\n",
        "- *Conteo/Frecuencia:* Cantidad de valores no nulos dentro de un campo."
      ],
      "metadata": {
        "id": "7PVW4tFCe5rG"
      }
    },
    {
      "cell_type": "code",
      "source": [
        "# Eliminamos la variable categorica\n",
        "df_est = df.drop('country',axis=1)\n",
        "# Aplicamos la estadística descriptiva\n",
        "df_est = pd.DataFrame({\n",
        "    'Media': df_est.mean(),\n",
        "    'Mínimo': df_est.min(),\n",
        "    'Máximo': df_est.max(),\n",
        "    'Moda': df_est.mode().iloc[0],\n",
        "    'Media_redondeada': df_est.mean().round(0),\n",
        "    'Desviación Estándar': df_est.std(),\n",
        "    'Conteo': df_est.count()\n",
        "})\n",
        "df_est.head()"
      ],
      "metadata": {
        "colab": {
          "base_uri": "https://localhost:8080/",
          "height": 206
        },
        "id": "XbXo6vbl5ypF",
        "outputId": "abd5c5c5-c7e8-4202-b1bf-8b6d59fa0324"
      },
      "execution_count": null,
      "outputs": [
        {
          "output_type": "execute_result",
          "data": {
            "text/plain": [
              "            Media  Mínimo  Máximo  Moda  Media_redondeada  \\\n",
              "race     5.348343     1.0    13.0   3.0               5.0   \n",
              "age     25.939305    13.0    66.0  18.0              26.0   \n",
              "engnat   1.369551     1.0     2.0   1.0               1.0   \n",
              "gender   1.625386     1.0    99.0   2.0               2.0   \n",
              "hand     1.136737     1.0    20.0   1.0               1.0   \n",
              "\n",
              "        Desviación Estándar  Conteo  \n",
              "race               4.000452   18766  \n",
              "age               11.051742   18766  \n",
              "engnat             0.482696   18766  \n",
              "gender             0.887143   18766  \n",
              "hand               0.432193   18766  "
            ],
            "text/html": [
              "\n",
              "  <div id=\"df-0298ba30-1676-4df2-bb0b-20ed7db1b4a6\" class=\"colab-df-container\">\n",
              "    <div>\n",
              "<style scoped>\n",
              "    .dataframe tbody tr th:only-of-type {\n",
              "        vertical-align: middle;\n",
              "    }\n",
              "\n",
              "    .dataframe tbody tr th {\n",
              "        vertical-align: top;\n",
              "    }\n",
              "\n",
              "    .dataframe thead th {\n",
              "        text-align: right;\n",
              "    }\n",
              "</style>\n",
              "<table border=\"1\" class=\"dataframe\">\n",
              "  <thead>\n",
              "    <tr style=\"text-align: right;\">\n",
              "      <th></th>\n",
              "      <th>Media</th>\n",
              "      <th>Mínimo</th>\n",
              "      <th>Máximo</th>\n",
              "      <th>Moda</th>\n",
              "      <th>Media_redondeada</th>\n",
              "      <th>Desviación Estándar</th>\n",
              "      <th>Conteo</th>\n",
              "    </tr>\n",
              "  </thead>\n",
              "  <tbody>\n",
              "    <tr>\n",
              "      <th>race</th>\n",
              "      <td>5.348343</td>\n",
              "      <td>1.0</td>\n",
              "      <td>13.0</td>\n",
              "      <td>3.0</td>\n",
              "      <td>5.0</td>\n",
              "      <td>4.000452</td>\n",
              "      <td>18766</td>\n",
              "    </tr>\n",
              "    <tr>\n",
              "      <th>age</th>\n",
              "      <td>25.939305</td>\n",
              "      <td>13.0</td>\n",
              "      <td>66.0</td>\n",
              "      <td>18.0</td>\n",
              "      <td>26.0</td>\n",
              "      <td>11.051742</td>\n",
              "      <td>18766</td>\n",
              "    </tr>\n",
              "    <tr>\n",
              "      <th>engnat</th>\n",
              "      <td>1.369551</td>\n",
              "      <td>1.0</td>\n",
              "      <td>2.0</td>\n",
              "      <td>1.0</td>\n",
              "      <td>1.0</td>\n",
              "      <td>0.482696</td>\n",
              "      <td>18766</td>\n",
              "    </tr>\n",
              "    <tr>\n",
              "      <th>gender</th>\n",
              "      <td>1.625386</td>\n",
              "      <td>1.0</td>\n",
              "      <td>99.0</td>\n",
              "      <td>2.0</td>\n",
              "      <td>2.0</td>\n",
              "      <td>0.887143</td>\n",
              "      <td>18766</td>\n",
              "    </tr>\n",
              "    <tr>\n",
              "      <th>hand</th>\n",
              "      <td>1.136737</td>\n",
              "      <td>1.0</td>\n",
              "      <td>20.0</td>\n",
              "      <td>1.0</td>\n",
              "      <td>1.0</td>\n",
              "      <td>0.432193</td>\n",
              "      <td>18766</td>\n",
              "    </tr>\n",
              "  </tbody>\n",
              "</table>\n",
              "</div>\n",
              "    <div class=\"colab-df-buttons\">\n",
              "\n",
              "  <div class=\"colab-df-container\">\n",
              "    <button class=\"colab-df-convert\" onclick=\"convertToInteractive('df-0298ba30-1676-4df2-bb0b-20ed7db1b4a6')\"\n",
              "            title=\"Convert this dataframe to an interactive table.\"\n",
              "            style=\"display:none;\">\n",
              "\n",
              "  <svg xmlns=\"http://www.w3.org/2000/svg\" height=\"24px\" viewBox=\"0 -960 960 960\">\n",
              "    <path d=\"M120-120v-720h720v720H120Zm60-500h600v-160H180v160Zm220 220h160v-160H400v160Zm0 220h160v-160H400v160ZM180-400h160v-160H180v160Zm440 0h160v-160H620v160ZM180-180h160v-160H180v160Zm440 0h160v-160H620v160Z\"/>\n",
              "  </svg>\n",
              "    </button>\n",
              "\n",
              "  <style>\n",
              "    .colab-df-container {\n",
              "      display:flex;\n",
              "      gap: 12px;\n",
              "    }\n",
              "\n",
              "    .colab-df-convert {\n",
              "      background-color: #E8F0FE;\n",
              "      border: none;\n",
              "      border-radius: 50%;\n",
              "      cursor: pointer;\n",
              "      display: none;\n",
              "      fill: #1967D2;\n",
              "      height: 32px;\n",
              "      padding: 0 0 0 0;\n",
              "      width: 32px;\n",
              "    }\n",
              "\n",
              "    .colab-df-convert:hover {\n",
              "      background-color: #E2EBFA;\n",
              "      box-shadow: 0px 1px 2px rgba(60, 64, 67, 0.3), 0px 1px 3px 1px rgba(60, 64, 67, 0.15);\n",
              "      fill: #174EA6;\n",
              "    }\n",
              "\n",
              "    .colab-df-buttons div {\n",
              "      margin-bottom: 4px;\n",
              "    }\n",
              "\n",
              "    [theme=dark] .colab-df-convert {\n",
              "      background-color: #3B4455;\n",
              "      fill: #D2E3FC;\n",
              "    }\n",
              "\n",
              "    [theme=dark] .colab-df-convert:hover {\n",
              "      background-color: #434B5C;\n",
              "      box-shadow: 0px 1px 3px 1px rgba(0, 0, 0, 0.15);\n",
              "      filter: drop-shadow(0px 1px 2px rgba(0, 0, 0, 0.3));\n",
              "      fill: #FFFFFF;\n",
              "    }\n",
              "  </style>\n",
              "\n",
              "    <script>\n",
              "      const buttonEl =\n",
              "        document.querySelector('#df-0298ba30-1676-4df2-bb0b-20ed7db1b4a6 button.colab-df-convert');\n",
              "      buttonEl.style.display =\n",
              "        google.colab.kernel.accessAllowed ? 'block' : 'none';\n",
              "\n",
              "      async function convertToInteractive(key) {\n",
              "        const element = document.querySelector('#df-0298ba30-1676-4df2-bb0b-20ed7db1b4a6');\n",
              "        const dataTable =\n",
              "          await google.colab.kernel.invokeFunction('convertToInteractive',\n",
              "                                                    [key], {});\n",
              "        if (!dataTable) return;\n",
              "\n",
              "        const docLinkHtml = 'Like what you see? Visit the ' +\n",
              "          '<a target=\"_blank\" href=https://colab.research.google.com/notebooks/data_table.ipynb>data table notebook</a>'\n",
              "          + ' to learn more about interactive tables.';\n",
              "        element.innerHTML = '';\n",
              "        dataTable['output_type'] = 'display_data';\n",
              "        await google.colab.output.renderOutput(dataTable, element);\n",
              "        const docLink = document.createElement('div');\n",
              "        docLink.innerHTML = docLinkHtml;\n",
              "        element.appendChild(docLink);\n",
              "      }\n",
              "    </script>\n",
              "  </div>\n",
              "\n",
              "\n",
              "<div id=\"df-0305a261-65dc-4e31-b973-5fec965bedb6\">\n",
              "  <button class=\"colab-df-quickchart\" onclick=\"quickchart('df-0305a261-65dc-4e31-b973-5fec965bedb6')\"\n",
              "            title=\"Suggest charts\"\n",
              "            style=\"display:none;\">\n",
              "\n",
              "<svg xmlns=\"http://www.w3.org/2000/svg\" height=\"24px\"viewBox=\"0 0 24 24\"\n",
              "     width=\"24px\">\n",
              "    <g>\n",
              "        <path d=\"M19 3H5c-1.1 0-2 .9-2 2v14c0 1.1.9 2 2 2h14c1.1 0 2-.9 2-2V5c0-1.1-.9-2-2-2zM9 17H7v-7h2v7zm4 0h-2V7h2v10zm4 0h-2v-4h2v4z\"/>\n",
              "    </g>\n",
              "</svg>\n",
              "  </button>\n",
              "\n",
              "<style>\n",
              "  .colab-df-quickchart {\n",
              "      --bg-color: #E8F0FE;\n",
              "      --fill-color: #1967D2;\n",
              "      --hover-bg-color: #E2EBFA;\n",
              "      --hover-fill-color: #174EA6;\n",
              "      --disabled-fill-color: #AAA;\n",
              "      --disabled-bg-color: #DDD;\n",
              "  }\n",
              "\n",
              "  [theme=dark] .colab-df-quickchart {\n",
              "      --bg-color: #3B4455;\n",
              "      --fill-color: #D2E3FC;\n",
              "      --hover-bg-color: #434B5C;\n",
              "      --hover-fill-color: #FFFFFF;\n",
              "      --disabled-bg-color: #3B4455;\n",
              "      --disabled-fill-color: #666;\n",
              "  }\n",
              "\n",
              "  .colab-df-quickchart {\n",
              "    background-color: var(--bg-color);\n",
              "    border: none;\n",
              "    border-radius: 50%;\n",
              "    cursor: pointer;\n",
              "    display: none;\n",
              "    fill: var(--fill-color);\n",
              "    height: 32px;\n",
              "    padding: 0;\n",
              "    width: 32px;\n",
              "  }\n",
              "\n",
              "  .colab-df-quickchart:hover {\n",
              "    background-color: var(--hover-bg-color);\n",
              "    box-shadow: 0 1px 2px rgba(60, 64, 67, 0.3), 0 1px 3px 1px rgba(60, 64, 67, 0.15);\n",
              "    fill: var(--button-hover-fill-color);\n",
              "  }\n",
              "\n",
              "  .colab-df-quickchart-complete:disabled,\n",
              "  .colab-df-quickchart-complete:disabled:hover {\n",
              "    background-color: var(--disabled-bg-color);\n",
              "    fill: var(--disabled-fill-color);\n",
              "    box-shadow: none;\n",
              "  }\n",
              "\n",
              "  .colab-df-spinner {\n",
              "    border: 2px solid var(--fill-color);\n",
              "    border-color: transparent;\n",
              "    border-bottom-color: var(--fill-color);\n",
              "    animation:\n",
              "      spin 1s steps(1) infinite;\n",
              "  }\n",
              "\n",
              "  @keyframes spin {\n",
              "    0% {\n",
              "      border-color: transparent;\n",
              "      border-bottom-color: var(--fill-color);\n",
              "      border-left-color: var(--fill-color);\n",
              "    }\n",
              "    20% {\n",
              "      border-color: transparent;\n",
              "      border-left-color: var(--fill-color);\n",
              "      border-top-color: var(--fill-color);\n",
              "    }\n",
              "    30% {\n",
              "      border-color: transparent;\n",
              "      border-left-color: var(--fill-color);\n",
              "      border-top-color: var(--fill-color);\n",
              "      border-right-color: var(--fill-color);\n",
              "    }\n",
              "    40% {\n",
              "      border-color: transparent;\n",
              "      border-right-color: var(--fill-color);\n",
              "      border-top-color: var(--fill-color);\n",
              "    }\n",
              "    60% {\n",
              "      border-color: transparent;\n",
              "      border-right-color: var(--fill-color);\n",
              "    }\n",
              "    80% {\n",
              "      border-color: transparent;\n",
              "      border-right-color: var(--fill-color);\n",
              "      border-bottom-color: var(--fill-color);\n",
              "    }\n",
              "    90% {\n",
              "      border-color: transparent;\n",
              "      border-bottom-color: var(--fill-color);\n",
              "    }\n",
              "  }\n",
              "</style>\n",
              "\n",
              "  <script>\n",
              "    async function quickchart(key) {\n",
              "      const quickchartButtonEl =\n",
              "        document.querySelector('#' + key + ' button');\n",
              "      quickchartButtonEl.disabled = true;  // To prevent multiple clicks.\n",
              "      quickchartButtonEl.classList.add('colab-df-spinner');\n",
              "      try {\n",
              "        const charts = await google.colab.kernel.invokeFunction(\n",
              "            'suggestCharts', [key], {});\n",
              "      } catch (error) {\n",
              "        console.error('Error during call to suggestCharts:', error);\n",
              "      }\n",
              "      quickchartButtonEl.classList.remove('colab-df-spinner');\n",
              "      quickchartButtonEl.classList.add('colab-df-quickchart-complete');\n",
              "    }\n",
              "    (() => {\n",
              "      let quickchartButtonEl =\n",
              "        document.querySelector('#df-0305a261-65dc-4e31-b973-5fec965bedb6 button');\n",
              "      quickchartButtonEl.style.display =\n",
              "        google.colab.kernel.accessAllowed ? 'block' : 'none';\n",
              "    })();\n",
              "  </script>\n",
              "</div>\n",
              "\n",
              "    </div>\n",
              "  </div>\n"
            ],
            "application/vnd.google.colaboratory.intrinsic+json": {
              "type": "dataframe",
              "variable_name": "df_est",
              "summary": "{\n  \"name\": \"df_est\",\n  \"rows\": 56,\n  \"fields\": [\n    {\n      \"column\": \"Media\",\n      \"properties\": {\n        \"dtype\": \"number\",\n        \"std\": 3.1568375620870945,\n        \"min\": 1.1367366513908133,\n        \"max\": 25.93930512629223,\n        \"num_unique_values\": 56,\n        \"samples\": [\n          5.348342747522114,\n          1.949483107748055,\n          3.767185335180646\n        ],\n        \"semantic_type\": \"\",\n        \"description\": \"\"\n      }\n    },\n    {\n      \"column\": \"M\\u00ednimo\",\n      \"properties\": {\n        \"dtype\": \"number\",\n        \"std\": 1.6035674514745462,\n        \"min\": 1.0,\n        \"max\": 13.0,\n        \"num_unique_values\": 2,\n        \"samples\": [\n          13.0,\n          1.0\n        ],\n        \"semantic_type\": \"\",\n        \"description\": \"\"\n      }\n    },\n    {\n      \"column\": \"M\\u00e1ximo\",\n      \"properties\": {\n        \"dtype\": \"number\",\n        \"std\": 15.036535591598305,\n        \"min\": 2.0,\n        \"max\": 99.0,\n        \"num_unique_values\": 6,\n        \"samples\": [\n          13.0,\n          66.0\n        ],\n        \"semantic_type\": \"\",\n        \"description\": \"\"\n      }\n    },\n    {\n      \"column\": \"Moda\",\n      \"properties\": {\n        \"dtype\": \"number\",\n        \"std\": 2.386923249164622,\n        \"min\": 1.0,\n        \"max\": 18.0,\n        \"num_unique_values\": 6,\n        \"samples\": [\n          3.0,\n          18.0\n        ],\n        \"semantic_type\": \"\",\n        \"description\": \"\"\n      }\n    },\n    {\n      \"column\": \"Media_redondeada\",\n      \"properties\": {\n        \"dtype\": \"number\",\n        \"std\": 3.1794286017720594,\n        \"min\": 1.0,\n        \"max\": 26.0,\n        \"num_unique_values\": 6,\n        \"samples\": [\n          5.0,\n          26.0\n        ],\n        \"semantic_type\": \"\",\n        \"description\": \"\"\n      }\n    },\n    {\n      \"column\": \"Desviaci\\u00f3n Est\\u00e1ndar\",\n      \"properties\": {\n        \"dtype\": \"number\",\n        \"std\": 1.3822814569526884,\n        \"min\": 0.4321932831205073,\n        \"max\": 11.051741952678212,\n        \"num_unique_values\": 56,\n        \"samples\": [\n          4.000452169083497,\n          1.5080229527476026\n        ],\n        \"semantic_type\": \"\",\n        \"description\": \"\"\n      }\n    },\n    {\n      \"column\": \"Conteo\",\n      \"properties\": {\n        \"dtype\": \"number\",\n        \"std\": 0,\n        \"min\": 18766,\n        \"max\": 18766,\n        \"num_unique_values\": 1,\n        \"samples\": [\n          18766\n        ],\n        \"semantic_type\": \"\",\n        \"description\": \"\"\n      }\n    }\n  ]\n}"
            }
          },
          "metadata": {},
          "execution_count": 237
        }
      ]
    },
    {
      "cell_type": "markdown",
      "source": [
        "### *Selección de variables representativas*"
      ],
      "metadata": {
        "id": "DUiJW6Vh_y9R"
      }
    },
    {
      "cell_type": "markdown",
      "source": [
        "Despúes de realizar la estadística descriptiva y de observar los posibles valores que pueden tomar los distintos campos, continuamos a realizar conclusiones de las variables más representativas según nuestro criterio.\n",
        "\n",
        "Identificamos los siguientes campos como los que definen mejor la personalidad dentro de cada una de las secciones del test:\n",
        "\n",
        "- **E1:** Representa que tan sociable  es el encuestado y la capacidad de transmitir su energía.\n",
        "- **N1:** Indica que tan susceptible es a experimentar sensaciones negativas.\n",
        "- **O3:** Refleja la creatividad para confrontar su vida diaria.\n",
        "- **A2:** Señala cuanta empatía suele tener hacía los demás.\n",
        "- **C1:** Representa el nivel de organización que tiene."
      ],
      "metadata": {
        "id": "HIlgBkWk_MKM"
      }
    },
    {
      "cell_type": "code",
      "source": [
        "df_est.loc[['E1', 'N1', 'O3', 'A2', 'C1']]"
      ],
      "metadata": {
        "colab": {
          "base_uri": "https://localhost:8080/",
          "height": 206
        },
        "id": "TGBZo2HnXZ-j",
        "outputId": "d66257c2-96be-4277-aba1-73dc00e28351"
      },
      "execution_count": null,
      "outputs": [
        {
          "output_type": "execute_result",
          "data": {
            "text/plain": [
              "       Media  Mínimo  Máximo  Moda  Media_redondeada  Desviación Estándar  \\\n",
              "E1  2.632047     1.0     5.0   3.0               3.0             1.231358   \n",
              "N1  3.264628     1.0     5.0   4.0               3.0             1.308275   \n",
              "O3  4.129223     1.0     5.0   5.0               4.0             1.005703   \n",
              "A2  3.927742     1.0     5.0   5.0               4.0             1.077345   \n",
              "C1  3.317596     1.0     5.0   4.0               3.0             1.099067   \n",
              "\n",
              "    Conteo  \n",
              "E1   18766  \n",
              "N1   18766  \n",
              "O3   18766  \n",
              "A2   18766  \n",
              "C1   18766  "
            ],
            "text/html": [
              "\n",
              "  <div id=\"df-3df18697-9f5d-435e-bffb-714155b337fd\" class=\"colab-df-container\">\n",
              "    <div>\n",
              "<style scoped>\n",
              "    .dataframe tbody tr th:only-of-type {\n",
              "        vertical-align: middle;\n",
              "    }\n",
              "\n",
              "    .dataframe tbody tr th {\n",
              "        vertical-align: top;\n",
              "    }\n",
              "\n",
              "    .dataframe thead th {\n",
              "        text-align: right;\n",
              "    }\n",
              "</style>\n",
              "<table border=\"1\" class=\"dataframe\">\n",
              "  <thead>\n",
              "    <tr style=\"text-align: right;\">\n",
              "      <th></th>\n",
              "      <th>Media</th>\n",
              "      <th>Mínimo</th>\n",
              "      <th>Máximo</th>\n",
              "      <th>Moda</th>\n",
              "      <th>Media_redondeada</th>\n",
              "      <th>Desviación Estándar</th>\n",
              "      <th>Conteo</th>\n",
              "    </tr>\n",
              "  </thead>\n",
              "  <tbody>\n",
              "    <tr>\n",
              "      <th>E1</th>\n",
              "      <td>2.632047</td>\n",
              "      <td>1.0</td>\n",
              "      <td>5.0</td>\n",
              "      <td>3.0</td>\n",
              "      <td>3.0</td>\n",
              "      <td>1.231358</td>\n",
              "      <td>18766</td>\n",
              "    </tr>\n",
              "    <tr>\n",
              "      <th>N1</th>\n",
              "      <td>3.264628</td>\n",
              "      <td>1.0</td>\n",
              "      <td>5.0</td>\n",
              "      <td>4.0</td>\n",
              "      <td>3.0</td>\n",
              "      <td>1.308275</td>\n",
              "      <td>18766</td>\n",
              "    </tr>\n",
              "    <tr>\n",
              "      <th>O3</th>\n",
              "      <td>4.129223</td>\n",
              "      <td>1.0</td>\n",
              "      <td>5.0</td>\n",
              "      <td>5.0</td>\n",
              "      <td>4.0</td>\n",
              "      <td>1.005703</td>\n",
              "      <td>18766</td>\n",
              "    </tr>\n",
              "    <tr>\n",
              "      <th>A2</th>\n",
              "      <td>3.927742</td>\n",
              "      <td>1.0</td>\n",
              "      <td>5.0</td>\n",
              "      <td>5.0</td>\n",
              "      <td>4.0</td>\n",
              "      <td>1.077345</td>\n",
              "      <td>18766</td>\n",
              "    </tr>\n",
              "    <tr>\n",
              "      <th>C1</th>\n",
              "      <td>3.317596</td>\n",
              "      <td>1.0</td>\n",
              "      <td>5.0</td>\n",
              "      <td>4.0</td>\n",
              "      <td>3.0</td>\n",
              "      <td>1.099067</td>\n",
              "      <td>18766</td>\n",
              "    </tr>\n",
              "  </tbody>\n",
              "</table>\n",
              "</div>\n",
              "    <div class=\"colab-df-buttons\">\n",
              "\n",
              "  <div class=\"colab-df-container\">\n",
              "    <button class=\"colab-df-convert\" onclick=\"convertToInteractive('df-3df18697-9f5d-435e-bffb-714155b337fd')\"\n",
              "            title=\"Convert this dataframe to an interactive table.\"\n",
              "            style=\"display:none;\">\n",
              "\n",
              "  <svg xmlns=\"http://www.w3.org/2000/svg\" height=\"24px\" viewBox=\"0 -960 960 960\">\n",
              "    <path d=\"M120-120v-720h720v720H120Zm60-500h600v-160H180v160Zm220 220h160v-160H400v160Zm0 220h160v-160H400v160ZM180-400h160v-160H180v160Zm440 0h160v-160H620v160ZM180-180h160v-160H180v160Zm440 0h160v-160H620v160Z\"/>\n",
              "  </svg>\n",
              "    </button>\n",
              "\n",
              "  <style>\n",
              "    .colab-df-container {\n",
              "      display:flex;\n",
              "      gap: 12px;\n",
              "    }\n",
              "\n",
              "    .colab-df-convert {\n",
              "      background-color: #E8F0FE;\n",
              "      border: none;\n",
              "      border-radius: 50%;\n",
              "      cursor: pointer;\n",
              "      display: none;\n",
              "      fill: #1967D2;\n",
              "      height: 32px;\n",
              "      padding: 0 0 0 0;\n",
              "      width: 32px;\n",
              "    }\n",
              "\n",
              "    .colab-df-convert:hover {\n",
              "      background-color: #E2EBFA;\n",
              "      box-shadow: 0px 1px 2px rgba(60, 64, 67, 0.3), 0px 1px 3px 1px rgba(60, 64, 67, 0.15);\n",
              "      fill: #174EA6;\n",
              "    }\n",
              "\n",
              "    .colab-df-buttons div {\n",
              "      margin-bottom: 4px;\n",
              "    }\n",
              "\n",
              "    [theme=dark] .colab-df-convert {\n",
              "      background-color: #3B4455;\n",
              "      fill: #D2E3FC;\n",
              "    }\n",
              "\n",
              "    [theme=dark] .colab-df-convert:hover {\n",
              "      background-color: #434B5C;\n",
              "      box-shadow: 0px 1px 3px 1px rgba(0, 0, 0, 0.15);\n",
              "      filter: drop-shadow(0px 1px 2px rgba(0, 0, 0, 0.3));\n",
              "      fill: #FFFFFF;\n",
              "    }\n",
              "  </style>\n",
              "\n",
              "    <script>\n",
              "      const buttonEl =\n",
              "        document.querySelector('#df-3df18697-9f5d-435e-bffb-714155b337fd button.colab-df-convert');\n",
              "      buttonEl.style.display =\n",
              "        google.colab.kernel.accessAllowed ? 'block' : 'none';\n",
              "\n",
              "      async function convertToInteractive(key) {\n",
              "        const element = document.querySelector('#df-3df18697-9f5d-435e-bffb-714155b337fd');\n",
              "        const dataTable =\n",
              "          await google.colab.kernel.invokeFunction('convertToInteractive',\n",
              "                                                    [key], {});\n",
              "        if (!dataTable) return;\n",
              "\n",
              "        const docLinkHtml = 'Like what you see? Visit the ' +\n",
              "          '<a target=\"_blank\" href=https://colab.research.google.com/notebooks/data_table.ipynb>data table notebook</a>'\n",
              "          + ' to learn more about interactive tables.';\n",
              "        element.innerHTML = '';\n",
              "        dataTable['output_type'] = 'display_data';\n",
              "        await google.colab.output.renderOutput(dataTable, element);\n",
              "        const docLink = document.createElement('div');\n",
              "        docLink.innerHTML = docLinkHtml;\n",
              "        element.appendChild(docLink);\n",
              "      }\n",
              "    </script>\n",
              "  </div>\n",
              "\n",
              "\n",
              "<div id=\"df-76e05ab2-4f1a-45ad-95fa-36de43ad2004\">\n",
              "  <button class=\"colab-df-quickchart\" onclick=\"quickchart('df-76e05ab2-4f1a-45ad-95fa-36de43ad2004')\"\n",
              "            title=\"Suggest charts\"\n",
              "            style=\"display:none;\">\n",
              "\n",
              "<svg xmlns=\"http://www.w3.org/2000/svg\" height=\"24px\"viewBox=\"0 0 24 24\"\n",
              "     width=\"24px\">\n",
              "    <g>\n",
              "        <path d=\"M19 3H5c-1.1 0-2 .9-2 2v14c0 1.1.9 2 2 2h14c1.1 0 2-.9 2-2V5c0-1.1-.9-2-2-2zM9 17H7v-7h2v7zm4 0h-2V7h2v10zm4 0h-2v-4h2v4z\"/>\n",
              "    </g>\n",
              "</svg>\n",
              "  </button>\n",
              "\n",
              "<style>\n",
              "  .colab-df-quickchart {\n",
              "      --bg-color: #E8F0FE;\n",
              "      --fill-color: #1967D2;\n",
              "      --hover-bg-color: #E2EBFA;\n",
              "      --hover-fill-color: #174EA6;\n",
              "      --disabled-fill-color: #AAA;\n",
              "      --disabled-bg-color: #DDD;\n",
              "  }\n",
              "\n",
              "  [theme=dark] .colab-df-quickchart {\n",
              "      --bg-color: #3B4455;\n",
              "      --fill-color: #D2E3FC;\n",
              "      --hover-bg-color: #434B5C;\n",
              "      --hover-fill-color: #FFFFFF;\n",
              "      --disabled-bg-color: #3B4455;\n",
              "      --disabled-fill-color: #666;\n",
              "  }\n",
              "\n",
              "  .colab-df-quickchart {\n",
              "    background-color: var(--bg-color);\n",
              "    border: none;\n",
              "    border-radius: 50%;\n",
              "    cursor: pointer;\n",
              "    display: none;\n",
              "    fill: var(--fill-color);\n",
              "    height: 32px;\n",
              "    padding: 0;\n",
              "    width: 32px;\n",
              "  }\n",
              "\n",
              "  .colab-df-quickchart:hover {\n",
              "    background-color: var(--hover-bg-color);\n",
              "    box-shadow: 0 1px 2px rgba(60, 64, 67, 0.3), 0 1px 3px 1px rgba(60, 64, 67, 0.15);\n",
              "    fill: var(--button-hover-fill-color);\n",
              "  }\n",
              "\n",
              "  .colab-df-quickchart-complete:disabled,\n",
              "  .colab-df-quickchart-complete:disabled:hover {\n",
              "    background-color: var(--disabled-bg-color);\n",
              "    fill: var(--disabled-fill-color);\n",
              "    box-shadow: none;\n",
              "  }\n",
              "\n",
              "  .colab-df-spinner {\n",
              "    border: 2px solid var(--fill-color);\n",
              "    border-color: transparent;\n",
              "    border-bottom-color: var(--fill-color);\n",
              "    animation:\n",
              "      spin 1s steps(1) infinite;\n",
              "  }\n",
              "\n",
              "  @keyframes spin {\n",
              "    0% {\n",
              "      border-color: transparent;\n",
              "      border-bottom-color: var(--fill-color);\n",
              "      border-left-color: var(--fill-color);\n",
              "    }\n",
              "    20% {\n",
              "      border-color: transparent;\n",
              "      border-left-color: var(--fill-color);\n",
              "      border-top-color: var(--fill-color);\n",
              "    }\n",
              "    30% {\n",
              "      border-color: transparent;\n",
              "      border-left-color: var(--fill-color);\n",
              "      border-top-color: var(--fill-color);\n",
              "      border-right-color: var(--fill-color);\n",
              "    }\n",
              "    40% {\n",
              "      border-color: transparent;\n",
              "      border-right-color: var(--fill-color);\n",
              "      border-top-color: var(--fill-color);\n",
              "    }\n",
              "    60% {\n",
              "      border-color: transparent;\n",
              "      border-right-color: var(--fill-color);\n",
              "    }\n",
              "    80% {\n",
              "      border-color: transparent;\n",
              "      border-right-color: var(--fill-color);\n",
              "      border-bottom-color: var(--fill-color);\n",
              "    }\n",
              "    90% {\n",
              "      border-color: transparent;\n",
              "      border-bottom-color: var(--fill-color);\n",
              "    }\n",
              "  }\n",
              "</style>\n",
              "\n",
              "  <script>\n",
              "    async function quickchart(key) {\n",
              "      const quickchartButtonEl =\n",
              "        document.querySelector('#' + key + ' button');\n",
              "      quickchartButtonEl.disabled = true;  // To prevent multiple clicks.\n",
              "      quickchartButtonEl.classList.add('colab-df-spinner');\n",
              "      try {\n",
              "        const charts = await google.colab.kernel.invokeFunction(\n",
              "            'suggestCharts', [key], {});\n",
              "      } catch (error) {\n",
              "        console.error('Error during call to suggestCharts:', error);\n",
              "      }\n",
              "      quickchartButtonEl.classList.remove('colab-df-spinner');\n",
              "      quickchartButtonEl.classList.add('colab-df-quickchart-complete');\n",
              "    }\n",
              "    (() => {\n",
              "      let quickchartButtonEl =\n",
              "        document.querySelector('#df-76e05ab2-4f1a-45ad-95fa-36de43ad2004 button');\n",
              "      quickchartButtonEl.style.display =\n",
              "        google.colab.kernel.accessAllowed ? 'block' : 'none';\n",
              "    })();\n",
              "  </script>\n",
              "</div>\n",
              "\n",
              "    </div>\n",
              "  </div>\n"
            ],
            "application/vnd.google.colaboratory.intrinsic+json": {
              "type": "dataframe",
              "summary": "{\n  \"name\": \"df_est\",\n  \"rows\": 5,\n  \"fields\": [\n    {\n      \"column\": \"Media\",\n      \"properties\": {\n        \"dtype\": \"number\",\n        \"std\": 0.5938079092801087,\n        \"min\": 2.6320473196205905,\n        \"max\": 4.129223062986251,\n        \"num_unique_values\": 5,\n        \"samples\": [\n          3.2646275178514332,\n          3.3175956517105405,\n          4.129223062986251\n        ],\n        \"semantic_type\": \"\",\n        \"description\": \"\"\n      }\n    },\n    {\n      \"column\": \"M\\u00ednimo\",\n      \"properties\": {\n        \"dtype\": \"number\",\n        \"std\": 0.0,\n        \"min\": 1.0,\n        \"max\": 1.0,\n        \"num_unique_values\": 1,\n        \"samples\": [\n          1.0\n        ],\n        \"semantic_type\": \"\",\n        \"description\": \"\"\n      }\n    },\n    {\n      \"column\": \"M\\u00e1ximo\",\n      \"properties\": {\n        \"dtype\": \"number\",\n        \"std\": 0.0,\n        \"min\": 5.0,\n        \"max\": 5.0,\n        \"num_unique_values\": 1,\n        \"samples\": [\n          5.0\n        ],\n        \"semantic_type\": \"\",\n        \"description\": \"\"\n      }\n    },\n    {\n      \"column\": \"Moda\",\n      \"properties\": {\n        \"dtype\": \"number\",\n        \"std\": 0.8366600265340756,\n        \"min\": 3.0,\n        \"max\": 5.0,\n        \"num_unique_values\": 3,\n        \"samples\": [\n          3.0\n        ],\n        \"semantic_type\": \"\",\n        \"description\": \"\"\n      }\n    },\n    {\n      \"column\": \"Media_redondeada\",\n      \"properties\": {\n        \"dtype\": \"number\",\n        \"std\": 0.5477225575051661,\n        \"min\": 3.0,\n        \"max\": 4.0,\n        \"num_unique_values\": 2,\n        \"samples\": [\n          4.0\n        ],\n        \"semantic_type\": \"\",\n        \"description\": \"\"\n      }\n    },\n    {\n      \"column\": \"Desviaci\\u00f3n Est\\u00e1ndar\",\n      \"properties\": {\n        \"dtype\": \"number\",\n        \"std\": 0.12268360699283613,\n        \"min\": 1.005702739441605,\n        \"max\": 1.308274914994077,\n        \"num_unique_values\": 5,\n        \"samples\": [\n          1.308274914994077\n        ],\n        \"semantic_type\": \"\",\n        \"description\": \"\"\n      }\n    },\n    {\n      \"column\": \"Conteo\",\n      \"properties\": {\n        \"dtype\": \"number\",\n        \"std\": 0,\n        \"min\": 18766,\n        \"max\": 18766,\n        \"num_unique_values\": 1,\n        \"samples\": [\n          18766\n        ],\n        \"semantic_type\": \"\",\n        \"description\": \"\"\n      }\n    }\n  ]\n}"
            }
          },
          "metadata": {},
          "execution_count": 238
        }
      ]
    },
    {
      "cell_type": "markdown",
      "source": [
        "Con las modas de 4 y 5 en algunas preguntas, parece haber una ligera inclinación hacia respuestas más positivas, es decir, se acoplan a su personalidad."
      ],
      "metadata": {
        "id": "WA6yRS0lW0MI"
      }
    },
    {
      "cell_type": "markdown",
      "source": [
        "*Conclusiones por variables observadas:*\n",
        "- **E1:** La mayoría de los encuestados no se siente identificado en esta característica, normalmente no son el alma de la fiesta pero tampoco son tímidos en este aspecto, en promedio la respuesta se encuentra en este valor.\n",
        "- **N1:** En esta característica, la mayoría de encuestados da una inclinación positiva, lo que representa que reiteradamente se encuentran estresados (no siempre). El valor promedio que toma esta variable es de *3 (neutral)*.\n",
        "- **O3:** Dentro de esta característica, la tendencia se sigue manteniendo positiva, lo cual representa que la mayoría de las personas reflejan su creatividad intelectual en su vida diaria. Al igual que la medida anterior, el promedio incremento a *4*, indicando que en promedio, los encuestados se encuentran identificados pero no al 100%.\n",
        "- **A2:** La tendencia de esta característica se mantiene positiva, lo cual representa que la mayoría de las personas son empaticos con las personas que los rodean, inclusive si al momento de la interacción son desconocidos para ellos. Al igual que la medida anterior, el promedio se mantuvo en *4*, indicando que en promedio, los encuestados se encuentran identificados pero no al 100%.\n",
        "- **C1:** En este caso, tambien se presenta una tendencia positiva dentro de los encuestados, pero no tanto como las dos características anteriores, la mayoría de las personas mantienen un autocontrol y una organización buena dentro de su día a día. Así como en la moda, el promedio tambien bajo a *3*, lo que nos indica que un encuestado promedio es neutral a esta característica."
      ],
      "metadata": {
        "id": "L0bxu7f8lBIS"
      }
    },
    {
      "cell_type": "markdown",
      "source": [
        "### *Visualización de datos*"
      ],
      "metadata": {
        "id": "MwC4ZV_0JuyG"
      }
    },
    {
      "cell_type": "markdown",
      "source": [
        "- Frecuencia por género de encuestados\n",
        "\n",
        "Un gráfico de barras nos sirve para identificar la frecuencia asociada a cada uno de los distintos valores que toma un campo dentro de una base de datos.\n",
        "\n",
        "En este caso visualizaremos la distribución por género de los que se encuentran dentro de la base."
      ],
      "metadata": {
        "id": "sqWKAmIIJ-7J"
      }
    },
    {
      "cell_type": "code",
      "source": [
        "# Contar las frecuencias de género del usuario/encuestado\n",
        "counts = df['gender'].value_counts()\n",
        "\n",
        "# Crear el gráfico de barras\n",
        "plt.figure(figsize=(10, 6))\n",
        "counts.plot(kind='bar', color='skyblue')\n",
        "plt.title('Distribución por sexo')\n",
        "plt.xlabel('Sexo')\n",
        "plt.ylabel('Frecuencia')\n",
        "plt.xticks(rotation=45)\n",
        "plt.grid(axis='y', linestyle='--', alpha=0.7)\n",
        "plt.tight_layout()\n",
        "plt.show()"
      ],
      "metadata": {
        "colab": {
          "base_uri": "https://localhost:8080/",
          "height": 578
        },
        "id": "qaQIBGqXAI50",
        "outputId": "e173c1a2-6a22-4e7b-e02f-9c1a37ac4b25"
      },
      "execution_count": null,
      "outputs": [
        {
          "output_type": "display_data",
          "data": {
            "text/plain": [
              "<Figure size 1000x600 with 1 Axes>"
            ],
            "image/png": "[encoded data removed]"
          },
          "metadata": {}
        }
      ]
    },
    {
      "cell_type": "markdown",
      "source": [
        "Normalmente en una encuesta se secciona el género de los participantes en 3 *masculino, femenino y otro*, para fines prácticos tomaremos *1: masculino*, *2: femenino* y *3: otro*, dentro del campo 3 agruparemos todos aquellos valores que son diferentes de 1 o 2."
      ],
      "metadata": {
        "id": "O-HWKgOFNkYQ"
      }
    },
    {
      "cell_type": "code",
      "source": [
        "df['gender'] = df['gender'].apply(lambda x: x if x in [1, 2] else 3)"
      ],
      "metadata": {
        "colab": {
          "base_uri": "https://localhost:8080/"
        },
        "id": "zFfxc7BFDIub",
        "outputId": "18fe52a9-1b7c-406b-fb77-1709409170ae"
      },
      "execution_count": null,
      "outputs": [
        {
          "output_type": "stream",
          "name": "stderr",
          "text": [
            "<ipython-input-240-17f4d8fb7617>:1: SettingWithCopyWarning: \n",
            "A value is trying to be set on a copy of a slice from a DataFrame.\n",
            "Try using .loc[row_indexer,col_indexer] = value instead\n",
            "\n",
            "See the caveats in the documentation: https://pandas.pydata.org/pandas-docs/stable/user_guide/indexing.html#returning-a-view-versus-a-copy\n",
            "  df['gender'] = df['gender'].apply(lambda x: x if x in [1, 2] else 3)\n"
          ]
        }
      ]
    },
    {
      "cell_type": "code",
      "source": [
        "# Contar las frecuencias por sexo de los encuestados\n",
        "counts = df['gender'].value_counts()\n",
        "\n",
        "# Crear el gráfico de barras\n",
        "plt.figure(figsize=(10, 6))\n",
        "counts.plot(kind='bar', color='skyblue')\n",
        "plt.title('Distribución por sexo')\n",
        "plt.xlabel('Categorías')\n",
        "plt.ylabel('Frecuencia')\n",
        "plt.xticks(rotation=45)\n",
        "plt.grid(axis='y', linestyle='--', alpha=0.7)\n",
        "plt.tight_layout()\n",
        "plt.show()"
      ],
      "metadata": {
        "colab": {
          "base_uri": "https://localhost:8080/",
          "height": 578
        },
        "id": "-E9Jk4H7D0zo",
        "outputId": "e559bf7d-ec96-40ee-8eb3-3ba0e8cd5a98"
      },
      "execution_count": null,
      "outputs": [
        {
          "output_type": "display_data",
          "data": {
            "text/plain": [
              "<Figure size 1000x600 with 1 Axes>"
            ],
            "image/png": "[encoded data removed]"
          },
          "metadata": {}
        }
      ]
    },
    {
      "cell_type": "markdown",
      "source": [
        "De la visualización anterior, concluimos que existe una gran diferencia entre el género de encuestados, representando un mayor número de encuestadas femeninas. En caso de querer modelar la personalidad que tienen los futuros usuarios del test, puede representar un sesgo para aquellos que son del sexo masculino, dado que esta diferencia puede modelar mejor a las mujeres que presenten este test."
      ],
      "metadata": {
        "id": "FaPQuUkY5zFu"
      }
    },
    {
      "cell_type": "markdown",
      "source": [
        "- Top 10 países con más encuestas realizadas.\n",
        "\n"
      ],
      "metadata": {
        "id": "sZcLW14URzzq"
      }
    },
    {
      "cell_type": "code",
      "source": [
        "# Supongamos que ya tienes el top 10 de países\n",
        "top_country = df['country'].value_counts().head(10)\n",
        "\n",
        "# Crear el gráfico de barras\n",
        "plt.figure(figsize=(10,6))\n",
        "top_country.plot(kind='bar', color='skyblue')\n",
        "plt.title('Top 10 países con más personas encuestadas', fontsize=14)\n",
        "plt.xlabel('País', fontsize=12)\n",
        "plt.ylabel('Frecuencia', fontsize=12)\n",
        "plt.xticks(rotation=45)\n",
        "plt.grid(axis='y', linestyle='--', alpha=0.7)\n",
        "plt.tight_layout()\n",
        "plt.show()"
      ],
      "metadata": {
        "colab": {
          "base_uri": "https://localhost:8080/",
          "height": 578
        },
        "id": "HA7HSKaJ5A6h",
        "outputId": "2379c866-4f5e-452c-c6ac-e73669c6c39b"
      },
      "execution_count": null,
      "outputs": [
        {
          "output_type": "display_data",
          "data": {
            "text/plain": [
              "<Figure size 1000x600 with 1 Axes>"
            ],
            "image/png": "[encoded data removed]"
          },
          "metadata": {}
        }
      ]
    },
    {
      "cell_type": "markdown",
      "source": [
        "De la visualización anterior, concluimos que existe una gran diferencia en cuestión al país desde los encuestados realizaron el test, mostrando una gran abundancia para el país con código *'US' (United States)*."
      ],
      "metadata": {
        "id": "x6GxLHHG5wxW"
      }
    },
    {
      "cell_type": "markdown",
      "source": [
        "### *PCA para las variables representativas*"
      ],
      "metadata": {
        "id": "iFsdHlnO6VJZ"
      }
    },
    {
      "cell_type": "code",
      "source": [
        "# Normalización\n",
        "norm = StandardScaler()\n",
        "df_norm = norm.fit_transform(df[['E1', 'N1', 'O3', 'A2', 'C1']])\n",
        "\n",
        "# PCA\n",
        "pca = PCA(n_components=None)\n",
        "pca_res = pca.fit_transform(df_norm)\n",
        "\n",
        "# Visualizar la varianza explicada\n",
        "explained_variance = pca.explained_variance_ratio_\n",
        "print(f\"Varianza explicada por cada componente: {explained_variance}\")"
      ],
      "metadata": {
        "colab": {
          "base_uri": "https://localhost:8080/"
        },
        "id": "oDwvAfWn5LuQ",
        "outputId": "493a5915-5239-4dcf-81d0-f18fdd4de1d2"
      },
      "execution_count": null,
      "outputs": [
        {
          "output_type": "stream",
          "name": "stdout",
          "text": [
            "Varianza explicada por cada componente: [0.273019   0.21532448 0.18752543 0.18082518 0.14330591]\n"
          ]
        }
      ]
    },
    {
      "cell_type": "code",
      "source": [
        "# Visualizar la varianza acumulada\n",
        "print(f\"Varianza explicada acumulada: {np.cumsum(explained_variance)}\")"
      ],
      "metadata": {
        "colab": {
          "base_uri": "https://localhost:8080/"
        },
        "id": "PdNOeXvX67ql",
        "outputId": "23a1a878-715c-48cb-915e-8edc896f4aca"
      },
      "execution_count": null,
      "outputs": [
        {
          "output_type": "stream",
          "name": "stdout",
          "text": [
            "Varianza explicada acumulada: [0.273019   0.48834348 0.67586891 0.85669409 1.        ]\n"
          ]
        }
      ]
    },
    {
      "cell_type": "code",
      "source": [
        "# Grafico de la varianza explicada por cada componente\n",
        "plt.figure(figsize=(10, 6))\n",
        "plt.plot(np.cumsum(pca.explained_variance_ratio_), marker='o', linestyle='--', color='r')\n",
        "plt.xlabel('Número de componentes principales')\n",
        "plt.ylabel('Varianza explicada acumulada')\n",
        "plt.title('Varianza explicada acumulada')\n",
        "\n",
        "# Mostrar los gráficos\n",
        "plt.tight_layout()\n",
        "plt.show()"
      ],
      "metadata": {
        "colab": {
          "base_uri": "https://localhost:8080/",
          "height": 578
        },
        "id": "6L7iH_B-7Gqt",
        "outputId": "3d63a65d-6b17-4132-8bdf-fb73afe7e590"
      },
      "execution_count": null,
      "outputs": [
        {
          "output_type": "display_data",
          "data": {
            "text/plain": [
              "<Figure size 1000x600 with 1 Axes>"
            ],
            "image/png": "[encoded data removed]"
          },
          "metadata": {}
        }
      ]
    },
    {
      "cell_type": "markdown",
      "source": [
        "En resumen, tenemos que la primera componente explica aproximadamente el *27%* de la varianza total, es la que tiene mayor poder explicativo. Tambien podemos observar que cerca del *86%* de la varianza acumulada se explica dentro de los primeros cuatro componentes."
      ],
      "metadata": {
        "id": "1P7Z4rZY9Jgs"
      }
    },
    {
      "cell_type": "markdown",
      "source": [
        "### *Clustering para las variables representativas*"
      ],
      "metadata": {
        "id": "YdE8E-vR8dWB"
      }
    },
    {
      "cell_type": "markdown",
      "source": [
        "Se realizará el mismo ejercicio, pero ahora teniendo en cuenta las variables mas representativas escogidas anteriormente y con la conclusion anterior, sabemos que los primeros 4 componentes explican más del 85% de la varianza acumulada."
      ],
      "metadata": {
        "id": "byObZGJ9-dfW"
      }
    },
    {
      "cell_type": "code",
      "source": [
        "# Definir el número de clusters a probar\n",
        "n_clusters = [2, 3, 4, 5]\n",
        "cluster_labels = {}\n",
        "\n",
        "# Realizar K-Means para cada número de clusters\n",
        "for k in n_clusters:\n",
        "    kmeans = KMeans(n_clusters=k, random_state=42)\n",
        "    labels = kmeans.fit_predict(pca_res[:,:4])\n",
        "    cluster_labels[k] = labels\n",
        "\n",
        "    # Número de datos en cada cluster\n",
        "    unique, counts = np.unique(labels, return_counts=True)\n",
        "    cluster_counts = dict(zip(unique, counts))\n",
        "\n",
        "    print(f\"Cantidad de datos para {k} clusters: {sorted(cluster_counts.items(), key=lambda item: item[1], reverse=True)}\")\n",
        "    print(f\"Total de datos para {k} clusters: {sum(cluster_counts.values())}\")\n",
        "    print(\"\")"
      ],
      "metadata": {
        "colab": {
          "base_uri": "https://localhost:8080/"
        },
        "id": "w41_KBBn7KXe",
        "outputId": "f735788f-9237-4c05-a560-c75d7387ba5d"
      },
      "execution_count": null,
      "outputs": [
        {
          "output_type": "stream",
          "name": "stdout",
          "text": [
            "Cantidad de datos para 2 clusters: [(0, 10240), (1, 8526)]\n",
            "Total de datos para 2 clusters: 18766\n",
            "\n",
            "Cantidad de datos para 3 clusters: [(0, 6701), (2, 6429), (1, 5636)]\n",
            "Total de datos para 3 clusters: 18766\n",
            "\n",
            "Cantidad de datos para 4 clusters: [(0, 5594), (2, 5380), (1, 4260), (3, 3532)]\n",
            "Total de datos para 4 clusters: 18766\n",
            "\n",
            "Cantidad de datos para 5 clusters: [(0, 4493), (2, 4221), (4, 3464), (1, 3365), (3, 3223)]\n",
            "Total de datos para 5 clusters: 18766\n",
            "\n"
          ]
        }
      ]
    },
    {
      "cell_type": "code",
      "source": [
        "# Elige el número óptimo de clusters usando el codo de la varianza\n",
        "inertia = []\n",
        "for k in range(1, 6):\n",
        "    kmeans = KMeans(n_clusters=k, random_state=42)\n",
        "    kmeans.fit(df_norm)\n",
        "    inertia.append(kmeans.inertia_)\n",
        "\n",
        "# Método del codo gráficamente\n",
        "plt.plot(range(1, 6), inertia, marker='o')\n",
        "plt.xlabel('Número de clusters')\n",
        "plt.ylabel('Inercia')\n",
        "plt.title('Método del Codo para encontrar el número óptimo de clusters')\n",
        "plt.show()"
      ],
      "metadata": {
        "colab": {
          "base_uri": "https://localhost:8080/",
          "height": 472
        },
        "id": "9hBbfoyi7SnE",
        "outputId": "f535be5a-3476-46b9-8724-526a94ac61cb"
      },
      "execution_count": null,
      "outputs": [
        {
          "output_type": "display_data",
          "data": {
            "text/plain": [
              "<Figure size 640x480 with 1 Axes>"
            ],
            "image/png": "[encoded data removed]"
          },
          "metadata": {}
        }
      ]
    },
    {
      "cell_type": "markdown",
      "source": [
        "Utilizando el método del Codo, podemos concluir que utilizar $k=2$ o $k=3$ es una buena opción para generar clusters, ya que a partir de estos números, la reducción en la inercia se vuelve menos significativa. Esto indica que agregar más clústeres no aporta información adicional relevante para la segmentación de los datos."
      ],
      "metadata": {
        "id": "lKonp7tR9D2x"
      }
    },
    {
      "cell_type": "code",
      "source": [],
      "metadata": {
        "id": "wEbSiI668Trh"
      },
      "execution_count": null,
      "outputs": []
    }
  ]
}